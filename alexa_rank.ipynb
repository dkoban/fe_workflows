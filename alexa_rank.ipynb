{
 "cells": [
  {
   "cell_type": "markdown",
   "metadata": {},
   "source": [
    "## Connect to API"
   ]
  },
  {
   "cell_type": "code",
   "execution_count": 25,
   "metadata": {},
   "outputs": [],
   "source": [
    "import configparser\n",
    "import pandas as pd\n",
    "from datetime import datetime \n",
    "import requests\n",
    "from xml.etree import cElementTree as ET\n",
    "\n",
    "# Setting config values\n",
    "config = configparser.ConfigParser()\n",
    "config.read(\"/Users/dankoban/Documents/Dissertation/config.ini\")\n",
    "api_key = config['awis']['secret_key']\n",
    "access_id = config['awis']['account_id']"
   ]
  },
  {
   "cell_type": "markdown",
   "metadata": {},
   "source": [
    "API Helper Functions"
   ]
  },
  {
   "cell_type": "code",
   "execution_count": 26,
   "metadata": {},
   "outputs": [],
   "source": [
    "class XmlDictConfig(dict):\n",
    "    '''\n",
    "    Example usage:\n",
    "\n",
    "    >>> tree = ElementTree.parse('your_file.xml')\n",
    "    >>> root = tree.getroot()\n",
    "    >>> xmldict = XmlDictConfig(root)\n",
    "\n",
    "    Or, if you want to use an XML string:\n",
    "\n",
    "    >>> root = ElementTree.XML(xml_string)\n",
    "    >>> xmldict = XmlDictConfig(root)\n",
    "\n",
    "    And then use xmldict for what it is... a dict.\n",
    "    '''\n",
    "    def __init__(self, parent_element):\n",
    "        if parent_element.items():\n",
    "            self.update(dict(parent_element.items()))\n",
    "        for element in parent_element:\n",
    "            if element:\n",
    "                # treat like dict - we assume that if the first two tags\n",
    "                # in a series are different, then they are all different.\n",
    "                if len(element) == 1 or element[0].tag != element[1].tag:\n",
    "                    aDict = XmlDictConfig(element)\n",
    "                # treat like list - we assume that if the first two tags\n",
    "                # in a series are the same, then the rest are the same.\n",
    "                else:\n",
    "                    # here, we put the list in dictionary; the key is the\n",
    "                    # tag name the list elements all share in common, and\n",
    "                    # the value is the list itself \n",
    "                    aDict = {element[0].tag: XmlListConfig(element)}\n",
    "                # if the tag has attributes, add those to the dict\n",
    "                if element.items():\n",
    "                    aDict.update(dict(element.items()))\n",
    "                self.update({element.tag: aDict})\n",
    "            # this assumes that if you've got an attribute in a tag,\n",
    "            # you won't be having any text. This may or may not be a \n",
    "            # good idea -- time will tell. It works for the way we are\n",
    "            # currently doing XML configuration files...\n",
    "            elif element.items():\n",
    "                self.update({element.tag: dict(element.items())})\n",
    "            # finally, if there are no child tags and no attributes, extract\n",
    "            # the text\n",
    "            else:\n",
    "                self.update({element.tag: element.text})\n",
    "                \n",
    "class XmlListConfig(list):\n",
    "    def __init__(self, aList):\n",
    "        for element in aList:\n",
    "            if element:\n",
    "                # treat like dict\n",
    "                if len(element) == 1 or element[0].tag != element[1].tag:\n",
    "                    self.append(XmlDictConfig(element))\n",
    "                # treat like list\n",
    "                elif element[0].tag == element[1].tag:\n",
    "                    self.append(XmlListConfig(element))\n",
    "            elif element.text:\n",
    "                text = element.text.strip()\n",
    "                if text:\n",
    "                    self.append(text)\n",
    "                    \n",
    "def get_alexa_rank(url, api_key, access_id):\n",
    "    request_url = 'https://awis.api.alexa.com/api?Action=urlInfo&ResponseGroup=Rank&Url=' + url\n",
    "    headers = {'Accept':'application/xml',\n",
    "               'Content-Type': 'application/xml',\n",
    "               'X-Amz-Date': datetime.utcnow().strftime('%Y%m%dT%H%M%SZ'),\n",
    "               'Authorization': 'AWS4-HMAC-SHA256 Credential=' + access_id + '/' + \n",
    "                                datetime.utcnow().strftime('%Y%m%d') + \n",
    "                                '/us-east-1/execute-api/aws4_request,SignedHeaders=host;x-amz-date',\n",
    "               'x-api-key': api_key\n",
    "              }\n",
    "    r = requests.get(request_url, headers=headers)\n",
    "    root = ET.XML(r.text)\n",
    "    dic = XmlDictConfig(root)\n",
    "    dic = dic['Results']['Result']['Alexa']['TrafficData']\n",
    "    return dic"
   ]
  },
  {
   "cell_type": "markdown",
   "metadata": {},
   "source": [
    "## Query domains for Alexa Rank"
   ]
  },
  {
   "cell_type": "code",
   "execution_count": 28,
   "metadata": {},
   "outputs": [
    {
     "name": "stdout",
     "output_type": "stream",
     "text": [
      "{'DataUrl': 'cnn.com/', 'Rank': '110'}\n",
      "{'DataUrl': 'dailywire.com/', 'Rank': '3142'}\n",
      "{'DataUrl': 'publichealth.lacounty.gov/', 'Rank': '8926'}\n",
      "{'DataUrl': 'hannity.com/', 'Rank': '65783'}\n"
     ]
    }
   ],
   "source": [
    "domains = ['cnn.com', 'dailywire.com', 'publichealth.lacounty.gov', 'hannity.com']\n",
    "for domain in domains:\n",
    "    print(get_alexa_rank(domain, api_key = awis_token, access_id = awis_access_id))"
   ]
  }
 ],
 "metadata": {
  "kernelspec": {
   "display_name": "Python 3",
   "language": "python",
   "name": "python3"
  },
  "language_info": {
   "codemirror_mode": {
    "name": "ipython",
    "version": 3
   },
   "file_extension": ".py",
   "mimetype": "text/x-python",
   "name": "python",
   "nbconvert_exporter": "python",
   "pygments_lexer": "ipython3",
   "version": "3.8.5"
  }
 },
 "nbformat": 4,
 "nbformat_minor": 4
}
