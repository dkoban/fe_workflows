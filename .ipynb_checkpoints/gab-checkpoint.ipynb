{
 "cells": [
  {
   "cell_type": "markdown",
   "metadata": {},
   "source": [
    "## BLUF:\n",
    "It is possible to replicate the accuracy prime experiment on Gab, but all interactions would have be done manually.  Since the native search function only allows for hashtag-based searching, identifying posts that contain specific URLs would be time intensive.  Likewise, extensive development work would be needed to pull complete network data via the Gap API. \n",
    "\n",
    "### Task list:\n",
    "\n",
    "**1. Identify users who share article links from untrustworthy websites:** <br> It appears the Gab API only allows to search for posts based on hashtags. Thus, we would have to do free text searches of embedded URLs to find posts with links to untrustworthy websites\n",
    "\n",
    "**2. Programmatically follow accounts to generate followers via follow-backs:** <br>  To our knowledge, the Gab API does not support creating automated accounts or using code to follow other users. \n",
    "    \n",
    "**3. Collect social network and profile information about individual users:** <br> Garc allows us to pull aggregate user activity information, but not specific network information.  The Gab API supports querying a limited subset of network information.  More work is needed to determine if it is possible to retrieve complete network information.\n",
    "\n",
    "**4. Programmatically message users to rate the accuracy of a headline:** <br> To our knowledge, the Gab API does not support creating automated accounts or using code to message other users. \n",
    "\n",
    "**5. Measure changes to posting activity of individual users:** <br> Garc supports querying a sufficient amount of individual user activity."
   ]
  },
  {
   "cell_type": "markdown",
   "metadata": {},
   "source": [
    "## 1. Identify users who share article links from untrustworthy websites"
   ]
  },
  {
   "cell_type": "code",
   "execution_count": 9,
   "metadata": {},
   "outputs": [],
   "source": [
    "import configparser\n",
    "import pandas as pd\n",
    "from garc import Garc\n",
    "from bs4 import BeautifulSoup as bs\n",
    "import html\n",
    "\n",
    "# Setting config values\n",
    "config = configparser.ConfigParser()\n",
    "config.read(\"/Users/dankoban/Documents/Dissertation/config.ini\")\n",
    "user_account = config['gab']['user_account']\n",
    "user_password = config['gab']['user_password']\n",
    "bearer_token = config['gab']['bearer_token']"
   ]
  },
  {
   "cell_type": "code",
   "execution_count": 3,
   "metadata": {},
   "outputs": [],
   "source": [
    "client = Garc(user_account = user_account,\n",
    "              user_password = user_password)"
   ]
  },
  {
   "cell_type": "code",
   "execution_count": 4,
   "metadata": {},
   "outputs": [
    {
     "name": "stdout",
     "output_type": "stream",
     "text": [
      "UK - #GBNews: #NigelFarage Beats #BBC and #Comcast’s #SkyNews COMBINED in Ratings: Report. -- #Breitbart... 🇬🇧https://www.breitbart.com/europe/2021/08/07/farage-beats-bbc-and-comcasts-sky-news-combined-in-ratings-report/\n",
      "\n",
      "From @BreitbartPayPal Co-Founder David Sacks Slams Company, Warns of Financial BlacklistingDavid Sacks, the founding COO and product leader of PayPal, slammed his former company over its announcement that it would partner with the far-left Anti Defamation League to monitor payments to alleged right-wing extremists, and that it would share the data with law enforcement....Story: https://www.breitbart.com/tech/2021/08/02/paypal-co-founder-david-sacks-slams-company-warns-of-financial-blacklisting/#Breitbart #BigTechCensorship\n",
      "\n",
      "#Senators Finally Introduce ‘#Infrastructure’ Bill After Unauthorized #Leak to #Breitbart Newshttps://www.breitbart.com/politics/2021/08/01/senators-introduce-infrastructure-bill-unauthorized-leak-text-breitbart-news/\n",
      "\n",
      "#Breitbart#DemocraticMayors#PrivateSecurityhttp://feedproxy.google.com/~r/breitbart/~3/2wo3hSpX4Go/\n",
      "\n",
      "#Breitbart#ABCNews#SelfDefence#GunViolenceStatisticshttp://feedproxy.google.com/~r/breitbart/~3/7c8dDhuTbT8/\n",
      "\n"
     ]
    }
   ],
   "source": [
    "r = client.search('breitbart', gabs = 50)\n",
    "posts = []\n",
    "for item in list(r):\n",
    "    posts.append(pd.json_normalize(item))\n",
    "posts = pd.concat(posts)\n",
    "posts.reset_index(drop = True, inplace = True)\n",
    "posts = posts[posts['card.url'].str.contains('breitbart', case=False) == True]\n",
    "\n",
    "posts['content_clean'] = posts['content'].apply(lambda x: bs(html.unescape(x), features=\"html.parser\").get_text())\n",
    "for post in posts['content_clean'][0:5]:\n",
    "    print(post + '\\n')"
   ]
  },
  {
   "cell_type": "markdown",
   "metadata": {},
   "source": [
    "## 2. Programmatically follow accounts to generate followers via follow-backs"
   ]
  },
  {
   "cell_type": "code",
   "execution_count": 5,
   "metadata": {},
   "outputs": [
    {
     "name": "stdout",
     "output_type": "stream",
     "text": [
      "Help on Garc in module garc.client object:\n",
      "\n",
      "class Garc(builtins.object)\n",
      " |  Garc(user_account=None, user_password=None, connection_errors=0, http_errors=0, profile='main', config=None)\n",
      " |  \n",
      " |  Garc allows you retrieve data from the Gab API.\n",
      " |  \n",
      " |  Methods defined here:\n",
      " |  \n",
      " |  __init__(self, user_account=None, user_password=None, connection_errors=0, http_errors=0, profile='main', config=None)\n",
      " |      Create a Garc instance. If account informaton isn't given it will search for them.\n",
      " |  \n",
      " |  anonymous_get(self, url, **kwargs)\n",
      " |      Perform an anonymous API request. Used for accessing public timelines.\n",
      " |  \n",
      " |  check_keys(self)\n",
      " |      Get the Gab account info. Order of precedence is command line,\n",
      " |      environment, config file. Return True if all the keys were found\n",
      " |      and False if not.\n",
      " |  \n",
      " |  default_config(self)\n",
      " |      Default config file path\n",
      " |  \n",
      " |  followers(self, q)\n",
      " |      find all followers of a specific user\n",
      " |      This is currently broken\n",
      " |  \n",
      " |  following(self, q)\n",
      " |      This is currently broken\n",
      " |  \n",
      " |  format_post(self, post)\n",
      " |      Format post so that body field is inserted, this harmonizes new mastodon data with old gab data\n",
      " |  \n",
      " |  get(self, url, **kwargs)\n",
      " |      Perform the API requests\n",
      " |  \n",
      " |  input_keys(self)\n",
      " |      Create new config file with account info\n",
      " |  \n",
      " |  load_config(self)\n",
      " |      Attempt to load gab info from config file\n",
      " |  \n",
      " |  login(self)\n",
      " |      Login to Gab to retrieve needed session token.\n",
      " |  \n",
      " |  public_search(self, q, gabs=-1, gabs_after='2021-08-17T17:36')\n",
      " |      Pass in a query. \n",
      " |      Searches the public Gab timeline for posts which match query q\n",
      " |      Match is case insensitive\n",
      " |  \n",
      " |  save_config(self)\n",
      " |      Save new config file\n",
      " |  \n",
      " |  search(self, q, search_type='date', gabs=-1)\n",
      " |      Pass in a query. Defaults to recent sort by date.\n",
      " |      Defaults to retrieving as many historical gabs as possible.\n",
      " |  \n",
      " |  search_gab_text(self, gab, query)\n",
      " |      Search if query exists within the text of a gab\n",
      " |      Return True if it does, False if not\n",
      " |  \n",
      " |  user(self, q)\n",
      " |      collect user json data\n",
      " |  \n",
      " |  usercomments(self, q)\n",
      " |      collect comments from a users feed\n",
      " |  \n",
      " |  userposts(self, q, gabs=-1, gabs_after='2000-01-01')\n",
      " |      collect posts from a user feed\n",
      " |  \n",
      " |  ----------------------------------------------------------------------\n",
      " |  Data descriptors defined here:\n",
      " |  \n",
      " |  __dict__\n",
      " |      dictionary for instance variables (if defined)\n",
      " |  \n",
      " |  __weakref__\n",
      " |      list of weak references to the object (if defined)\n",
      "\n"
     ]
    }
   ],
   "source": [
    "help(client)"
   ]
  },
  {
   "cell_type": "markdown",
   "metadata": {},
   "source": [
    "## 3. Collect social network and profile information about individual users:"
   ]
  },
  {
   "cell_type": "code",
   "execution_count": 6,
   "metadata": {},
   "outputs": [
    {
     "data": {
      "text/html": [
       "<div>\n",
       "<style scoped>\n",
       "    .dataframe tbody tr th:only-of-type {\n",
       "        vertical-align: middle;\n",
       "    }\n",
       "\n",
       "    .dataframe tbody tr th {\n",
       "        vertical-align: top;\n",
       "    }\n",
       "\n",
       "    .dataframe thead th {\n",
       "        text-align: right;\n",
       "    }\n",
       "</style>\n",
       "<table border=\"1\" class=\"dataframe\">\n",
       "  <thead>\n",
       "    <tr style=\"text-align: right;\">\n",
       "      <th></th>\n",
       "      <th>followers_count</th>\n",
       "      <th>following_count</th>\n",
       "      <th>statuses_count</th>\n",
       "    </tr>\n",
       "  </thead>\n",
       "  <tbody>\n",
       "    <tr>\n",
       "      <th>0</th>\n",
       "      <td>64</td>\n",
       "      <td>33</td>\n",
       "      <td>2991</td>\n",
       "    </tr>\n",
       "    <tr>\n",
       "      <th>1</th>\n",
       "      <td>3086</td>\n",
       "      <td>663</td>\n",
       "      <td>81309</td>\n",
       "    </tr>\n",
       "    <tr>\n",
       "      <th>2</th>\n",
       "      <td>969</td>\n",
       "      <td>985</td>\n",
       "      <td>13624</td>\n",
       "    </tr>\n",
       "  </tbody>\n",
       "</table>\n",
       "</div>"
      ],
      "text/plain": [
       "   followers_count  following_count  statuses_count\n",
       "0               64               33            2991\n",
       "1             3086              663           81309\n",
       "2              969              985           13624"
      ]
     },
     "execution_count": 6,
     "metadata": {},
     "output_type": "execute_result"
    }
   ],
   "source": [
    "usernames = posts['account.username'].tolist()[0:3]\n",
    "user_df = []\n",
    "for user in usernames:\n",
    "    r = client.user(user)\n",
    "    r = pd.json_normalize(list(r)[0])\n",
    "    user_df.append(r)\n",
    "\n",
    "user_df = pd.concat(user_df)\n",
    "user_df.reset_index(inplace = True, drop = True)\n",
    "user_df[['followers_count', 'following_count', 'statuses_count']]"
   ]
  },
  {
   "cell_type": "markdown",
   "metadata": {},
   "source": [
    "The garc function for pulling followed accounts is broken according to the garc documentation.  "
   ]
  },
  {
   "cell_type": "code",
   "execution_count": 7,
   "metadata": {},
   "outputs": [
    {
     "name": "stdout",
     "output_type": "stream",
     "text": [
      "Help on method following in module garc.client:\n",
      "\n",
      "following(q) method of garc.client.Garc instance\n",
      "    This is currently broken\n",
      "\n"
     ]
    }
   ],
   "source": [
    "help(client.following)"
   ]
  },
  {
   "cell_type": "markdown",
   "metadata": {},
   "source": [
    "We can query followed accounts directly from the gab endpoint, but would have to invest more time to see if the API supports pagination.  It currently looks like it only provides the first 25 followed accounts."
   ]
  },
  {
   "cell_type": "code",
   "execution_count": 10,
   "metadata": {},
   "outputs": [
    {
     "data": {
      "text/plain": [
       "25"
      ]
     },
     "execution_count": 10,
     "metadata": {},
     "output_type": "execute_result"
    }
   ],
   "source": [
    "import requests\n",
    "user_ids = posts['account.id'].tolist()[0:3]\n",
    "headers = {\"Authorization\": \"Bearer {}\".format(bearer_token)}\n",
    "url = 'https://gab.com/api/v1/accounts/%s/following?limit=100' % user_ids[0]\n",
    "\n",
    "r = requests.request(\"GET\", url, \n",
    "                      headers = {\"Authorization\": \"Bearer {}\".format(bearer_token)})   \n",
    "followed = pd.json_normalize(r.json())\n",
    "len(followed)"
   ]
  },
  {
   "cell_type": "markdown",
   "metadata": {},
   "source": [
    "## 4. Programmatically message users to rate the accuracy of a headline\n",
    "\n",
    "Not possible to interact with other users via API. See comments from #2"
   ]
  },
  {
   "cell_type": "markdown",
   "metadata": {},
   "source": [
    "## 5. Measure changes to posting activity of individual users"
   ]
  },
  {
   "cell_type": "code",
   "execution_count": 13,
   "metadata": {},
   "outputs": [
    {
     "data": {
      "text/html": [
       "<div>\n",
       "<style scoped>\n",
       "    .dataframe tbody tr th:only-of-type {\n",
       "        vertical-align: middle;\n",
       "    }\n",
       "\n",
       "    .dataframe tbody tr th {\n",
       "        vertical-align: top;\n",
       "    }\n",
       "\n",
       "    .dataframe thead th {\n",
       "        text-align: right;\n",
       "    }\n",
       "</style>\n",
       "<table border=\"1\" class=\"dataframe\">\n",
       "  <thead>\n",
       "    <tr style=\"text-align: right;\">\n",
       "      <th></th>\n",
       "      <th>id</th>\n",
       "      <th>created_at</th>\n",
       "      <th>replies_count</th>\n",
       "    </tr>\n",
       "  </thead>\n",
       "  <tbody>\n",
       "    <tr>\n",
       "      <th>0</th>\n",
       "      <td>104934958866869138</td>\n",
       "      <td>2020-09-27T04:20:03.172Z</td>\n",
       "      <td>0</td>\n",
       "    </tr>\n",
       "    <tr>\n",
       "      <th>1</th>\n",
       "      <td>104934809746727024</td>\n",
       "      <td>2020-09-27T03:42:07.604Z</td>\n",
       "      <td>0</td>\n",
       "    </tr>\n",
       "    <tr>\n",
       "      <th>2</th>\n",
       "      <td>104934805534208115</td>\n",
       "      <td>2020-09-27T03:41:03.392Z</td>\n",
       "      <td>0</td>\n",
       "    </tr>\n",
       "    <tr>\n",
       "      <th>3</th>\n",
       "      <td>104934801813934997</td>\n",
       "      <td>2020-09-27T03:40:06.517Z</td>\n",
       "      <td>0</td>\n",
       "    </tr>\n",
       "    <tr>\n",
       "      <th>4</th>\n",
       "      <td>104934483555692272</td>\n",
       "      <td>2020-09-27T02:19:13.456Z</td>\n",
       "      <td>1</td>\n",
       "    </tr>\n",
       "    <tr>\n",
       "      <th>...</th>\n",
       "      <td>...</td>\n",
       "      <td>...</td>\n",
       "      <td>...</td>\n",
       "    </tr>\n",
       "    <tr>\n",
       "      <th>3015</th>\n",
       "      <td>104786146483366936</td>\n",
       "      <td>2020-08-31T21:35:06.190Z</td>\n",
       "      <td>0</td>\n",
       "    </tr>\n",
       "    <tr>\n",
       "      <th>3016</th>\n",
       "      <td>104786142592564722</td>\n",
       "      <td>2020-08-31T21:34:06.827Z</td>\n",
       "      <td>0</td>\n",
       "    </tr>\n",
       "    <tr>\n",
       "      <th>3017</th>\n",
       "      <td>104786138487191799</td>\n",
       "      <td>2020-08-31T21:33:04.168Z</td>\n",
       "      <td>0</td>\n",
       "    </tr>\n",
       "    <tr>\n",
       "      <th>3018</th>\n",
       "      <td>104786134601052118</td>\n",
       "      <td>2020-08-31T21:32:04.905Z</td>\n",
       "      <td>0</td>\n",
       "    </tr>\n",
       "    <tr>\n",
       "      <th>3019</th>\n",
       "      <td>104786130654109340</td>\n",
       "      <td>2020-08-31T21:31:04.899Z</td>\n",
       "      <td>0</td>\n",
       "    </tr>\n",
       "  </tbody>\n",
       "</table>\n",
       "<p>3020 rows × 3 columns</p>\n",
       "</div>"
      ],
      "text/plain": [
       "                      id                created_at  replies_count\n",
       "0     104934958866869138  2020-09-27T04:20:03.172Z              0\n",
       "1     104934809746727024  2020-09-27T03:42:07.604Z              0\n",
       "2     104934805534208115  2020-09-27T03:41:03.392Z              0\n",
       "3     104934801813934997  2020-09-27T03:40:06.517Z              0\n",
       "4     104934483555692272  2020-09-27T02:19:13.456Z              1\n",
       "...                  ...                       ...            ...\n",
       "3015  104786146483366936  2020-08-31T21:35:06.190Z              0\n",
       "3016  104786142592564722  2020-08-31T21:34:06.827Z              0\n",
       "3017  104786138487191799  2020-08-31T21:33:04.168Z              0\n",
       "3018  104786134601052118  2020-08-31T21:32:04.905Z              0\n",
       "3019  104786130654109340  2020-08-31T21:31:04.899Z              0\n",
       "\n",
       "[3020 rows x 3 columns]"
      ]
     },
     "execution_count": 13,
     "metadata": {},
     "output_type": "execute_result"
    }
   ],
   "source": [
    "r = client.userposts(q = 'Breitbart_bot', gabs = 3000)\n",
    "userposts = []\n",
    "for item in list(r):\n",
    "    userposts.append(pd.json_normalize(item))\n",
    "userposts = pd.concat(userposts)\n",
    "userposts.reset_index(drop = True, inplace = True)\n",
    "userposts[['id', 'created_at', 'replies_count']]"
   ]
  }
 ],
 "metadata": {
  "kernelspec": {
   "display_name": "Python 3",
   "language": "python",
   "name": "python3"
  },
  "language_info": {
   "codemirror_mode": {
    "name": "ipython",
    "version": 3
   },
   "file_extension": ".py",
   "mimetype": "text/x-python",
   "name": "python",
   "nbconvert_exporter": "python",
   "pygments_lexer": "ipython3",
   "version": "3.8.5"
  }
 },
 "nbformat": 4,
 "nbformat_minor": 4
}
