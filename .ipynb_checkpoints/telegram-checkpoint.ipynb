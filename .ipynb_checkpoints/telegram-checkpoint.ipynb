{
 "cells": [
  {
   "cell_type": "markdown",
   "metadata": {},
   "source": [
    "## BLUF:\n",
    "The lack of information about post authors and inidivdual user activity makes it unfeasible to replicate an accuracy primes experiment on Telegram. We could search for links from untrustworthy websites across a large number of channels, but we would not be able to view who posted the links for most channels due to privacy settings. Likewise, we cannot query the API to retrieve the posting history of individual accounts. We must collect activity across numerous channels and will only be able to view the posting author on a small subset of channels. \n",
    "\n",
    "Creating bots is relatively easy in that we don't have to formally request authorization to create them.  However, bot accounts are limited in the actions they can perform.  Bots cannot join channels; bots must be added to channels by administrators.  Bots cannot initiate a chat conversation with other users.  \n",
    "\n",
    "### Task list:\n",
    "\n",
    "**1. Identify users who share article links from untrustworthy websites:** <br> API does not support free text searching across all channels.  Free text searching possible within channel posts but does not include user replies to a post.   \n",
    "\n",
    "**2. Programmatically follow accounts to generate followers via follow-backs:** <br> API supports joining channels for non-bot accounts.  Bots must be added to a channel by the channel admins.\n",
    "    \n",
    "**3. Collect social network and profile information about individual users:** <br> Users can add other users to a contact list, or they can join channels and groups.  It is not possible to view a user's contacts and channels. It is possible to view the members of a public channel if the settings of the channel have an open privacy setting.\n",
    "\n",
    "**4. Programmatically message users to rate the accuracy of a headline:** <br> Users can initiate a conversation with any user by sending an unsolicited message, but bot accounts cannot initiate conversations with other users.\n",
    "\n",
    "**5. Measure changes to posting activity of individual users:** <br> We can measure changes to posting activity of users within a set of predefined channels."
   ]
  },
  {
   "cell_type": "markdown",
   "metadata": {},
   "source": [
    "## Connect to API"
   ]
  },
  {
   "cell_type": "code",
   "execution_count": 14,
   "metadata": {},
   "outputs": [],
   "source": [
    "from telethon import TelegramClient\n",
    "from telethon.tl.functions.channels import GetFullChannelRequest, JoinChannelRequest\n",
    "import configparser\n",
    "import pandas as pd\n",
    "\n",
    "# Setting config values\n",
    "config = configparser.ConfigParser()\n",
    "config.read(\"/Users/dankoban/Documents/Dissertation/config.ini\")\n",
    "api_id = config['telegram']['api_id']\n",
    "api_hash = config['telegram']['api_hash']\n",
    "phone = config['telegram']['phone']\n",
    "bot_token = config['telegram']['bot_token']"
   ]
  },
  {
   "cell_type": "code",
   "execution_count": 2,
   "metadata": {},
   "outputs": [
    {
     "name": "stdout",
     "output_type": "stream",
     "text": [
      "enter code: 50555\n"
     ]
    },
    {
     "data": {
      "text/plain": [
       "<telethon.tl.types.User at 0x7ffe388bb370>"
      ]
     },
     "execution_count": 2,
     "metadata": {},
     "output_type": "execute_result"
    }
   ],
   "source": [
    "client = TelegramClient('user', api_id, api_hash)\n",
    "await client.connect()\n",
    "await client.send_code_request(f\"+{phone}\", force_sms=True)\n",
    "code = input('enter code: ')\n",
    "await client.sign_in(phone, code)"
   ]
  },
  {
   "cell_type": "code",
   "execution_count": null,
   "metadata": {},
   "outputs": [],
   "source": [
    "r = await client.get_me()\n",
    "#r.to_dict()"
   ]
  },
  {
   "cell_type": "markdown",
   "metadata": {},
   "source": [
    "## Get channel info"
   ]
  },
  {
   "cell_type": "code",
   "execution_count": 3,
   "metadata": {},
   "outputs": [
    {
     "data": {
      "text/html": [
       "<div>\n",
       "<style scoped>\n",
       "    .dataframe tbody tr th:only-of-type {\n",
       "        vertical-align: middle;\n",
       "    }\n",
       "\n",
       "    .dataframe tbody tr th {\n",
       "        vertical-align: top;\n",
       "    }\n",
       "\n",
       "    .dataframe thead th {\n",
       "        text-align: right;\n",
       "    }\n",
       "</style>\n",
       "<table border=\"1\" class=\"dataframe\">\n",
       "  <thead>\n",
       "    <tr style=\"text-align: right;\">\n",
       "      <th></th>\n",
       "      <th>full_chat.id</th>\n",
       "      <th>title</th>\n",
       "      <th>full_chat.about</th>\n",
       "      <th>full_chat.can_view_participants</th>\n",
       "      <th>full_chat.participants_count</th>\n",
       "    </tr>\n",
       "  </thead>\n",
       "  <tbody>\n",
       "    <tr>\n",
       "      <th>0</th>\n",
       "      <td>1462338131</td>\n",
       "      <td>Donald J. Trump</td>\n",
       "      <td>Uncensored posts from the Office of Donald J. ...</td>\n",
       "      <td>False</td>\n",
       "      <td>1096259</td>\n",
       "    </tr>\n",
       "    <tr>\n",
       "      <th>0</th>\n",
       "      <td>1443119244</td>\n",
       "      <td>BREAKING HEADLINES</td>\n",
       "      <td>Committed to bringing you top, most-shared new...</td>\n",
       "      <td>False</td>\n",
       "      <td>28171</td>\n",
       "    </tr>\n",
       "    <tr>\n",
       "      <th>0</th>\n",
       "      <td>1353088446</td>\n",
       "      <td>The American Spectator</td>\n",
       "      <td>Providing the wittiest conservative commentary...</td>\n",
       "      <td>False</td>\n",
       "      <td>57787</td>\n",
       "    </tr>\n",
       "    <tr>\n",
       "      <th>0</th>\n",
       "      <td>1157742664</td>\n",
       "      <td>The Epoch Times</td>\n",
       "      <td>An independent, award-winning voice in print &amp;...</td>\n",
       "      <td>False</td>\n",
       "      <td>270406</td>\n",
       "    </tr>\n",
       "    <tr>\n",
       "      <th>0</th>\n",
       "      <td>1406147540</td>\n",
       "      <td>Fighting The Commies</td>\n",
       "      <td>Fighting the commies who hate our country with...</td>\n",
       "      <td>False</td>\n",
       "      <td>48200</td>\n",
       "    </tr>\n",
       "    <tr>\n",
       "      <th>0</th>\n",
       "      <td>1459890679</td>\n",
       "      <td>Trump Supporters Channel 🇺🇸</td>\n",
       "      <td>Supporters of the greatest President of our li...</td>\n",
       "      <td>False</td>\n",
       "      <td>402438</td>\n",
       "    </tr>\n",
       "    <tr>\n",
       "      <th>0</th>\n",
       "      <td>1462978404</td>\n",
       "      <td>The Western Journal</td>\n",
       "      <td>The Western Journal aims to equip readers with...</td>\n",
       "      <td>False</td>\n",
       "      <td>80832</td>\n",
       "    </tr>\n",
       "    <tr>\n",
       "      <th>0</th>\n",
       "      <td>1229595346</td>\n",
       "      <td>MAGA Revolution 🇺🇸</td>\n",
       "      <td>Breaking News, Politics, Commentary\\n\\nhttps:/...</td>\n",
       "      <td>False</td>\n",
       "      <td>131629</td>\n",
       "    </tr>\n",
       "    <tr>\n",
       "      <th>0</th>\n",
       "      <td>1185290693</td>\n",
       "      <td>Ben Ferguson</td>\n",
       "      <td>Syndicated Talk Radio Host / TV Political Comm...</td>\n",
       "      <td>False</td>\n",
       "      <td>87444</td>\n",
       "    </tr>\n",
       "    <tr>\n",
       "      <th>0</th>\n",
       "      <td>1343572701</td>\n",
       "      <td>NTD</td>\n",
       "      <td>Your independent voice in television news—brin...</td>\n",
       "      <td>False</td>\n",
       "      <td>174644</td>\n",
       "    </tr>\n",
       "    <tr>\n",
       "      <th>0</th>\n",
       "      <td>1308519094</td>\n",
       "      <td>Becker News</td>\n",
       "      <td>Truly Independent Journalism.</td>\n",
       "      <td>False</td>\n",
       "      <td>33688</td>\n",
       "    </tr>\n",
       "    <tr>\n",
       "      <th>0</th>\n",
       "      <td>1435088198</td>\n",
       "      <td>Taking Back America</td>\n",
       "      <td>Real. Fearless. Journalism.\\nhttps://takingbac...</td>\n",
       "      <td>False</td>\n",
       "      <td>110916</td>\n",
       "    </tr>\n",
       "    <tr>\n",
       "      <th>0</th>\n",
       "      <td>1338997959</td>\n",
       "      <td>The Trump Republicans</td>\n",
       "      <td>We are the Trump Republicans. Huge fans of Pre...</td>\n",
       "      <td>False</td>\n",
       "      <td>46438</td>\n",
       "    </tr>\n",
       "    <tr>\n",
       "      <th>0</th>\n",
       "      <td>1471186378</td>\n",
       "      <td>Julio Gonzalez-Tax Expert</td>\n",
       "      <td>Most Interesting Man in Tax. Tax Reform Expert...</td>\n",
       "      <td>False</td>\n",
       "      <td>19915</td>\n",
       "    </tr>\n",
       "    <tr>\n",
       "      <th>0</th>\n",
       "      <td>1430871715</td>\n",
       "      <td>The Babylon Bee</td>\n",
       "      <td>Fake news you can trust.\\nbabylonbee.com</td>\n",
       "      <td>False</td>\n",
       "      <td>173598</td>\n",
       "    </tr>\n",
       "    <tr>\n",
       "      <th>0</th>\n",
       "      <td>1471186378</td>\n",
       "      <td>Julio Gonzalez-Tax Expert</td>\n",
       "      <td>Most Interesting Man in Tax. Tax Reform Expert...</td>\n",
       "      <td>False</td>\n",
       "      <td>19915</td>\n",
       "    </tr>\n",
       "    <tr>\n",
       "      <th>0</th>\n",
       "      <td>1401259760</td>\n",
       "      <td>Mike Pompeo</td>\n",
       "      <td>Former U.S. Secretary of State, Director of th...</td>\n",
       "      <td>False</td>\n",
       "      <td>111222</td>\n",
       "    </tr>\n",
       "    <tr>\n",
       "      <th>0</th>\n",
       "      <td>1189125688</td>\n",
       "      <td>Blaze Media</td>\n",
       "      <td>News and entertainment for people who love Ame...</td>\n",
       "      <td>False</td>\n",
       "      <td>217548</td>\n",
       "    </tr>\n",
       "    <tr>\n",
       "      <th>0</th>\n",
       "      <td>1463328256</td>\n",
       "      <td>PearFEED</td>\n",
       "      <td>Welcome to @PearFEED! 🍐 — Your Pearfect Telegr...</td>\n",
       "      <td>False</td>\n",
       "      <td>74651</td>\n",
       "    </tr>\n",
       "    <tr>\n",
       "      <th>0</th>\n",
       "      <td>1112623833</td>\n",
       "      <td>Health care staff against Covid 19 vaccine</td>\n",
       "      <td>Any healthcare staff, who feel alone just now ...</td>\n",
       "      <td>True</td>\n",
       "      <td>21</td>\n",
       "    </tr>\n",
       "  </tbody>\n",
       "</table>\n",
       "</div>"
      ],
      "text/plain": [
       "   full_chat.id                                       title  \\\n",
       "0    1462338131                             Donald J. Trump   \n",
       "0    1443119244                          BREAKING HEADLINES   \n",
       "0    1353088446                      The American Spectator   \n",
       "0    1157742664                             The Epoch Times   \n",
       "0    1406147540                        Fighting The Commies   \n",
       "0    1459890679                 Trump Supporters Channel 🇺🇸   \n",
       "0    1462978404                         The Western Journal   \n",
       "0    1229595346                          MAGA Revolution 🇺🇸   \n",
       "0    1185290693                                Ben Ferguson   \n",
       "0    1343572701                                         NTD   \n",
       "0    1308519094                                 Becker News   \n",
       "0    1435088198                         Taking Back America   \n",
       "0    1338997959                       The Trump Republicans   \n",
       "0    1471186378                   Julio Gonzalez-Tax Expert   \n",
       "0    1430871715                             The Babylon Bee   \n",
       "0    1471186378                   Julio Gonzalez-Tax Expert   \n",
       "0    1401259760                                 Mike Pompeo   \n",
       "0    1189125688                                 Blaze Media   \n",
       "0    1463328256                                    PearFEED   \n",
       "0    1112623833  Health care staff against Covid 19 vaccine   \n",
       "\n",
       "                                     full_chat.about  \\\n",
       "0  Uncensored posts from the Office of Donald J. ...   \n",
       "0  Committed to bringing you top, most-shared new...   \n",
       "0  Providing the wittiest conservative commentary...   \n",
       "0  An independent, award-winning voice in print &...   \n",
       "0  Fighting the commies who hate our country with...   \n",
       "0  Supporters of the greatest President of our li...   \n",
       "0  The Western Journal aims to equip readers with...   \n",
       "0  Breaking News, Politics, Commentary\\n\\nhttps:/...   \n",
       "0  Syndicated Talk Radio Host / TV Political Comm...   \n",
       "0  Your independent voice in television news—brin...   \n",
       "0                      Truly Independent Journalism.   \n",
       "0  Real. Fearless. Journalism.\\nhttps://takingbac...   \n",
       "0  We are the Trump Republicans. Huge fans of Pre...   \n",
       "0  Most Interesting Man in Tax. Tax Reform Expert...   \n",
       "0           Fake news you can trust.\\nbabylonbee.com   \n",
       "0  Most Interesting Man in Tax. Tax Reform Expert...   \n",
       "0  Former U.S. Secretary of State, Director of th...   \n",
       "0  News and entertainment for people who love Ame...   \n",
       "0  Welcome to @PearFEED! 🍐 — Your Pearfect Telegr...   \n",
       "0  Any healthcare staff, who feel alone just now ...   \n",
       "\n",
       "   full_chat.can_view_participants  full_chat.participants_count  \n",
       "0                            False                       1096259  \n",
       "0                            False                         28171  \n",
       "0                            False                         57787  \n",
       "0                            False                        270406  \n",
       "0                            False                         48200  \n",
       "0                            False                        402438  \n",
       "0                            False                         80832  \n",
       "0                            False                        131629  \n",
       "0                            False                         87444  \n",
       "0                            False                        174644  \n",
       "0                            False                         33688  \n",
       "0                            False                        110916  \n",
       "0                            False                         46438  \n",
       "0                            False                         19915  \n",
       "0                            False                        173598  \n",
       "0                            False                         19915  \n",
       "0                            False                        111222  \n",
       "0                            False                        217548  \n",
       "0                            False                         74651  \n",
       "0                             True                            21  "
      ]
     },
     "execution_count": 3,
     "metadata": {},
     "output_type": "execute_result"
    }
   ],
   "source": [
    "links = ['https://t.me/real_DonaldJTrump',\n",
    "         'https://t.me/BREAKINGHEADLINES',\n",
    "         'https://t.me/AmericanSpectator',\n",
    "         'https://t.me/EpochTimes',\n",
    "         'https://t.me/FightingTheCommies',\n",
    "         'https://t.me/TrumpChannel',\n",
    "         'https://t.me/WesternJournal',\n",
    "         'https://t.me/MAGARevolution',\n",
    "         'https://t.me/BenFerguson',\n",
    "         'https://t.me/NTDNews',\n",
    "         'https://t.me/BeckerNews',\n",
    "         'https://t.me/TakingBackAmerica',\n",
    "         'https://t.me/TrumpRepublicans',\n",
    "         'https://t.me/TaxReformExpert1',\n",
    "         'https://t.me/TheBabylonBee',\n",
    "         'https://t.me/TaxReformExpert1',\n",
    "         'https://t.me/MichaelRPompeo',\n",
    "         'https://t.me/TheBlazeTV',\n",
    "         'https://t.me/PearFEED',\n",
    "         'https://t.me/healthcarestaff', ]\n",
    "\n",
    "channel_info = []\n",
    "for link in links:   \n",
    "    r = await client(GetFullChannelRequest(channel=link))\n",
    "    ch_full = pd.json_normalize(r.to_dict())    \n",
    "    ch_full['title'] = pd.json_normalize(r.to_dict())['chats'][0][0]['title']\n",
    "    ch_full = ch_full[['full_chat.id', \n",
    "                       'title',                       \n",
    "                       'full_chat.about', \n",
    "                       'full_chat.can_view_participants', \n",
    "                       'full_chat.participants_count']]\n",
    "    channel_info.append(ch_full)\n",
    "\n",
    "channel_info = pd.concat(channel_info)\n",
    "channel_info"
   ]
  },
  {
   "cell_type": "markdown",
   "metadata": {},
   "source": [
    "## Get channel members for open channels "
   ]
  },
  {
   "cell_type": "code",
   "execution_count": 4,
   "metadata": {},
   "outputs": [
    {
     "data": {
      "text/plain": [
       "21"
      ]
     },
     "execution_count": 4,
     "metadata": {},
     "output_type": "execute_result"
    }
   ],
   "source": [
    "members = await client.get_participants('https://t.me/healthcarestaff')\n",
    "member_list = []\n",
    "for i in range(0, len(members)):\n",
    "    try:\n",
    "        member_list.append(pd.DataFrame({'id': [members[i].to_dict()['id']],\n",
    "                                         'username': [members[i].to_dict()['username']],\n",
    "                                         'bot': [members[i].to_dict()['bot']],\n",
    "                                         'first_name': [members[i].to_dict()['first_name']],\n",
    "                                         'last_name': [members[i].to_dict()['last_name']],\n",
    "                                         'phone': [members[i].to_dict()['phone']]}))\n",
    "    except:\n",
    "        pass\n",
    "member_df = pd.concat(member_list)\n",
    "member_df.reset_index(inplace = True, drop = True)\n",
    "len(member_df)"
   ]
  },
  {
   "cell_type": "markdown",
   "metadata": {},
   "source": [
    "## Get chats"
   ]
  },
  {
   "cell_type": "code",
   "execution_count": 5,
   "metadata": {},
   "outputs": [
    {
     "name": "stdout",
     "output_type": "stream",
     "text": [
      "number of chats: 1690\n"
     ]
    },
    {
     "data": {
      "text/html": [
       "<div>\n",
       "<style scoped>\n",
       "    .dataframe tbody tr th:only-of-type {\n",
       "        vertical-align: middle;\n",
       "    }\n",
       "\n",
       "    .dataframe tbody tr th {\n",
       "        vertical-align: top;\n",
       "    }\n",
       "\n",
       "    .dataframe thead th {\n",
       "        text-align: right;\n",
       "    }\n",
       "</style>\n",
       "<table border=\"1\" class=\"dataframe\">\n",
       "  <thead>\n",
       "    <tr style=\"text-align: right;\">\n",
       "      <th></th>\n",
       "      <th>channel_id</th>\n",
       "      <th>message_id</th>\n",
       "      <th>date</th>\n",
       "      <th>message</th>\n",
       "      <th>from_user_id</th>\n",
       "      <th>from_peer_channel</th>\n",
       "      <th>post_author</th>\n",
       "      <th>views</th>\n",
       "      <th>forwards</th>\n",
       "      <th>replies</th>\n",
       "      <th>fwd_from_channel_id</th>\n",
       "    </tr>\n",
       "  </thead>\n",
       "  <tbody>\n",
       "    <tr>\n",
       "      <th>565</th>\n",
       "      <td>1459890679</td>\n",
       "      <td>1307</td>\n",
       "      <td>2021-04-27</td>\n",
       "      <td>Twitter banned James O’Keefe for exposing CNN. Support him in his fight against the Big Tech oligarchs by subscribing to his VERIFIED Telegram channel.\\n\\nShare everywhere!\\n👉 👉 @JamesOKeefeIII\\nhttps://t.me/joinchat/tyyghebcPw8zYmFh</td>\n",
       "      <td>None</td>\n",
       "      <td>None</td>\n",
       "      <td>None</td>\n",
       "      <td>1338439</td>\n",
       "      <td>1730</td>\n",
       "      <td>91</td>\n",
       "      <td>None</td>\n",
       "    </tr>\n",
       "    <tr>\n",
       "      <th>634</th>\n",
       "      <td>1459890679</td>\n",
       "      <td>1222</td>\n",
       "      <td>2021-04-15</td>\n",
       "      <td>🚨 URGENT: Founder of Project Veritas @JamesOKeefeIII was PERMANENTLY SUSPENDED off Twitter for exposing fake news CNN, but the good news is that James is on Telegram, and he’s verified!\\n\\nJOIN his channel below + SHARE this post with your friends, groups, and channels! Let’s get him to 300k subscribers!\\n👇👇👇</td>\n",
       "      <td>None</td>\n",
       "      <td>None</td>\n",
       "      <td>None</td>\n",
       "      <td>788986</td>\n",
       "      <td>1971</td>\n",
       "      <td>105</td>\n",
       "      <td>None</td>\n",
       "    </tr>\n",
       "    <tr>\n",
       "      <th>746</th>\n",
       "      <td>1459890679</td>\n",
       "      <td>1086</td>\n",
       "      <td>2021-03-25</td>\n",
       "      <td>“IN THE END, WE WILL WIN!”\\n—President Donald J. Trump\\n\\nJoin 👉👉 @FightingTheCommies</td>\n",
       "      <td>None</td>\n",
       "      <td>None</td>\n",
       "      <td>None</td>\n",
       "      <td>595930</td>\n",
       "      <td>1232</td>\n",
       "      <td>1029</td>\n",
       "      <td>None</td>\n",
       "    </tr>\n",
       "    <tr>\n",
       "      <th>654</th>\n",
       "      <td>1459890679</td>\n",
       "      <td>1200</td>\n",
       "      <td>2021-04-12</td>\n",
       "      <td></td>\n",
       "      <td>None</td>\n",
       "      <td>None</td>\n",
       "      <td>None</td>\n",
       "      <td>547868</td>\n",
       "      <td>2222</td>\n",
       "      <td>935</td>\n",
       "      <td>None</td>\n",
       "    </tr>\n",
       "    <tr>\n",
       "      <th>205</th>\n",
       "      <td>1459890679</td>\n",
       "      <td>1730</td>\n",
       "      <td>2021-07-04</td>\n",
       "      <td>🥊 Let’s fight the Democrats by following this recommended news channel: @FightingTheCommies\\n\\nReal. Fearless. Journalism.\\nhttps://t.me/FightingTheCommies</td>\n",
       "      <td>None</td>\n",
       "      <td>None</td>\n",
       "      <td>None</td>\n",
       "      <td>515897</td>\n",
       "      <td>407</td>\n",
       "      <td>164</td>\n",
       "      <td>None</td>\n",
       "    </tr>\n",
       "    <tr>\n",
       "      <th>166</th>\n",
       "      <td>1459890679</td>\n",
       "      <td>1775</td>\n",
       "      <td>2021-07-14</td>\n",
       "      <td>Introducing the Freedom Phone. Launching today with its uncensorable app store &amp; total privacy features.\\n\\nhttps://FreedomPhone.com</td>\n",
       "      <td>None</td>\n",
       "      <td>None</td>\n",
       "      <td>None</td>\n",
       "      <td>506838</td>\n",
       "      <td>10880</td>\n",
       "      <td>282</td>\n",
       "      <td>None</td>\n",
       "    </tr>\n",
       "    <tr>\n",
       "      <th>582</th>\n",
       "      <td>1459890679</td>\n",
       "      <td>1285</td>\n",
       "      <td>2021-04-25</td>\n",
       "      <td>President Trump congratulates James O’Keefe for his incredible work with Project Veritas.\\n\\nJoin James’ verified Telegram channel here:\\n👉 https://t.me/joinchat/tyyghebcPw8zYmFh\\n\\nThe cancel culture mob banned him from Twitter for the sin of exposing CNN. Let’s fight back by joining him on Telegram!</td>\n",
       "      <td>None</td>\n",
       "      <td>None</td>\n",
       "      <td>None</td>\n",
       "      <td>500884</td>\n",
       "      <td>1177</td>\n",
       "      <td>168</td>\n",
       "      <td>None</td>\n",
       "    </tr>\n",
       "    <tr>\n",
       "      <th>284</th>\n",
       "      <td>1459890679</td>\n",
       "      <td>1638</td>\n",
       "      <td>2021-06-14</td>\n",
       "      <td>🥊 Let’s take America back by following this recommended news channel: @TakingBackAmerica\\n\\nReal. Fearless. Journalism.\\nhttps://t.me/TakingBackAmerica</td>\n",
       "      <td>None</td>\n",
       "      <td>None</td>\n",
       "      <td>None</td>\n",
       "      <td>463225</td>\n",
       "      <td>416</td>\n",
       "      <td>208</td>\n",
       "      <td>None</td>\n",
       "    </tr>\n",
       "    <tr>\n",
       "      <th>635</th>\n",
       "      <td>1459890679</td>\n",
       "      <td>1221</td>\n",
       "      <td>2021-04-15</td>\n",
       "      <td>Twitter has BANNED Project Veritas’ Guerrilla Journalist @JamesOKeefeIII for exposing CNN.\\n\\n🥊 JOIN HIS VERIFIED TELEGRAM HERE: https://t.me/joinchat/tyyghebcPw8zYmFh</td>\n",
       "      <td>None</td>\n",
       "      <td>None</td>\n",
       "      <td>None</td>\n",
       "      <td>461213</td>\n",
       "      <td>858</td>\n",
       "      <td>579</td>\n",
       "      <td>None</td>\n",
       "    </tr>\n",
       "    <tr>\n",
       "      <th>753</th>\n",
       "      <td>1459890679</td>\n",
       "      <td>1077</td>\n",
       "      <td>2021-03-24</td>\n",
       "      <td>Let's Take Back America!\\n\\nJoin 👉👉 @MAGARevolution</td>\n",
       "      <td>None</td>\n",
       "      <td>None</td>\n",
       "      <td>None</td>\n",
       "      <td>374910</td>\n",
       "      <td>468</td>\n",
       "      <td>869</td>\n",
       "      <td>None</td>\n",
       "    </tr>\n",
       "  </tbody>\n",
       "</table>\n",
       "</div>"
      ],
      "text/plain": [
       "     channel_id  message_id        date  \\\n",
       "565  1459890679        1307  2021-04-27   \n",
       "634  1459890679        1222  2021-04-15   \n",
       "746  1459890679        1086  2021-03-25   \n",
       "654  1459890679        1200  2021-04-12   \n",
       "205  1459890679        1730  2021-07-04   \n",
       "166  1459890679        1775  2021-07-14   \n",
       "582  1459890679        1285  2021-04-25   \n",
       "284  1459890679        1638  2021-06-14   \n",
       "635  1459890679        1221  2021-04-15   \n",
       "753  1459890679        1077  2021-03-24   \n",
       "\n",
       "                                                                                                                                                                                                                                                                                                                    message  \\\n",
       "565                                                                               Twitter banned James O’Keefe for exposing CNN. Support him in his fight against the Big Tech oligarchs by subscribing to his VERIFIED Telegram channel.\\n\\nShare everywhere!\\n👉 👉 @JamesOKeefeIII\\nhttps://t.me/joinchat/tyyghebcPw8zYmFh   \n",
       "634  🚨 URGENT: Founder of Project Veritas @JamesOKeefeIII was PERMANENTLY SUSPENDED off Twitter for exposing fake news CNN, but the good news is that James is on Telegram, and he’s verified!\\n\\nJOIN his channel below + SHARE this post with your friends, groups, and channels! Let’s get him to 300k subscribers!\\n👇👇👇   \n",
       "746                                                                                                                                                                                                                                   “IN THE END, WE WILL WIN!”\\n—President Donald J. Trump\\n\\nJoin 👉👉 @FightingTheCommies   \n",
       "654                                                                                                                                                                                                                                                                                                                           \n",
       "205                                                                                                                                                             🥊 Let’s fight the Democrats by following this recommended news channel: @FightingTheCommies\\n\\nReal. Fearless. Journalism.\\nhttps://t.me/FightingTheCommies   \n",
       "166                                                                                                                                                                                    Introducing the Freedom Phone. Launching today with its uncensorable app store & total privacy features.\\n\\nhttps://FreedomPhone.com   \n",
       "582          President Trump congratulates James O’Keefe for his incredible work with Project Veritas.\\n\\nJoin James’ verified Telegram channel here:\\n👉 https://t.me/joinchat/tyyghebcPw8zYmFh\\n\\nThe cancel culture mob banned him from Twitter for the sin of exposing CNN. Let’s fight back by joining him on Telegram!   \n",
       "284                                                                                                                                                                 🥊 Let’s take America back by following this recommended news channel: @TakingBackAmerica\\n\\nReal. Fearless. Journalism.\\nhttps://t.me/TakingBackAmerica   \n",
       "635                                                                                                                                                 Twitter has BANNED Project Veritas’ Guerrilla Journalist @JamesOKeefeIII for exposing CNN.\\n\\n🥊 JOIN HIS VERIFIED TELEGRAM HERE: https://t.me/joinchat/tyyghebcPw8zYmFh   \n",
       "753                                                                                                                                                                                                                                                                     Let's Take Back America!\\n\\nJoin 👉👉 @MAGARevolution   \n",
       "\n",
       "    from_user_id from_peer_channel post_author    views  forwards replies  \\\n",
       "565         None              None        None  1338439      1730      91   \n",
       "634         None              None        None   788986      1971     105   \n",
       "746         None              None        None   595930      1232    1029   \n",
       "654         None              None        None   547868      2222     935   \n",
       "205         None              None        None   515897       407     164   \n",
       "166         None              None        None   506838     10880     282   \n",
       "582         None              None        None   500884      1177     168   \n",
       "284         None              None        None   463225       416     208   \n",
       "635         None              None        None   461213       858     579   \n",
       "753         None              None        None   374910       468     869   \n",
       "\n",
       "    fwd_from_channel_id  \n",
       "565                None  \n",
       "634                None  \n",
       "746                None  \n",
       "654                None  \n",
       "205                None  \n",
       "166                None  \n",
       "582                None  \n",
       "284                None  \n",
       "635                None  \n",
       "753                None  "
      ]
     },
     "execution_count": 5,
     "metadata": {},
     "output_type": "execute_result"
    }
   ],
   "source": [
    "#chats = await client.get_messages('https://t.me/healthcarestaff', None)\n",
    "chats = await client.get_messages('https://t.me/TrumpChannel', None)\n",
    "\n",
    "pd.options.display.max_colwidth = 2000\n",
    "pd.options.display.max_rows = 300\n",
    "chat_list = []\n",
    "for i in range(0, len(chats)):\n",
    "    \n",
    "    try:\n",
    "        channel_id = [chats[i].to_dict()['peer_id']['channel_id']]\n",
    "    except:\n",
    "        channel_id = [None]\n",
    "    \n",
    "    try:\n",
    "        message_id = [chats[i].to_dict()['id']]\n",
    "    except:\n",
    "        message_id = [None]\n",
    "        \n",
    "    try:\n",
    "        date = [chats[i].to_dict()['date']]\n",
    "    except:\n",
    "        date = [None]    \n",
    "        \n",
    "    try:\n",
    "        message = [chats[i].to_dict()['message']]\n",
    "    except:\n",
    "        message = [None]                    \n",
    "    \n",
    "    try:\n",
    "        from_user_id = [chats[i].to_dict()['from_id']['user_id']]\n",
    "    except:\n",
    "        from_user_id = [None]\n",
    "        \n",
    "    try:\n",
    "        from_peer_channel = [chats[i].to_dict()['from_id']['PeerChannel']]\n",
    "    except:\n",
    "        from_peer_channel = [None]  \n",
    "        \n",
    "    try:\n",
    "        replies = [chats[i].to_dict()['replies']['replies']]\n",
    "    except:\n",
    "        replies = [None]\n",
    "    \n",
    "    try: \n",
    "        forwards = [chats[i].to_dict()['forwards']]\n",
    "    except:\n",
    "        forwards = [None] \n",
    "    \n",
    "    try: \n",
    "        fwd_from_channel_id = chats[i].to_dict()['fwd_from']['from_id']['channel_id']    \n",
    "    except:\n",
    "        fwd_from_channel_id = [None]     \n",
    "        \n",
    "    try:\n",
    "        chat_list.append(pd.DataFrame({'channel_id': channel_id,\n",
    "                                       'message_id': message_id,\n",
    "                                       'date': date,\n",
    "                                       'message': message,\n",
    "                                       'from_user_id': from_user_id,\n",
    "                                       'from_peer_channel': from_peer_channel,\n",
    "                                       'post_author': [chats[i].to_dict()['post_author']],\n",
    "                                       'views': [chats[i].to_dict()['views']],                                       \n",
    "                                       'forwards': forwards,                                      \n",
    "                                       'replies': replies,\n",
    "                                       'fwd_from_channel_id': fwd_from_channel_id}))\n",
    "    except:\n",
    "        pass\n",
    "        #print(i)\n",
    "chat_df = pd.concat(chat_list)\n",
    "chat_df.reset_index(inplace = True, drop = True)\n",
    "chat_df = chat_df.sort_values('views', ascending = False)\n",
    "chat_df['date'] = pd.to_datetime(chat_df['date']).dt.date\n",
    "print(\"number of chats: \" + str(len(chat_df)))\n",
    "chat_df.head(10)"
   ]
  },
  {
   "cell_type": "code",
   "execution_count": 6,
   "metadata": {},
   "outputs": [
    {
     "name": "stdout",
     "output_type": "stream",
     "text": [
      "first post: 2019-12-30\n",
      "last post: 2021-08-17\n"
     ]
    },
    {
     "data": {
      "image/png": "[encoded data removed]",
      "text/plain": [
       "<Figure size 1080x360 with 1 Axes>"
      ]
     },
     "metadata": {
      "needs_background": "light"
     },
     "output_type": "display_data"
    }
   ],
   "source": [
    "print(\"first post: \" + str(min(chat_df['date'])))\n",
    "print(\"last post: \" + str(max(chat_df['date'])))\n",
    "\n",
    "import matplotlib.dates as mdates\n",
    "import matplotlib.pylab as plt\n",
    "ax = chat_df[['date', 'message_id']].groupby('date').count().plot(kind='bar', figsize=(15,5),legend=None)\n",
    "ax.xaxis.set_major_locator(mdates.MonthLocator(interval=1))\n",
    "plt.gcf().autofmt_xdate()"
   ]
  },
  {
   "cell_type": "code",
   "execution_count": 7,
   "metadata": {},
   "outputs": [
    {
     "data": {
      "text/html": [
       "<div>\n",
       "<style scoped>\n",
       "    .dataframe tbody tr th:only-of-type {\n",
       "        vertical-align: middle;\n",
       "    }\n",
       "\n",
       "    .dataframe tbody tr th {\n",
       "        vertical-align: top;\n",
       "    }\n",
       "\n",
       "    .dataframe thead th {\n",
       "        text-align: right;\n",
       "    }\n",
       "</style>\n",
       "<table border=\"1\" class=\"dataframe\">\n",
       "  <thead>\n",
       "    <tr style=\"text-align: right;\">\n",
       "      <th></th>\n",
       "      <th>channel_id</th>\n",
       "      <th>message_id</th>\n",
       "      <th>date</th>\n",
       "      <th>message</th>\n",
       "      <th>from_user_id</th>\n",
       "      <th>from_peer_channel</th>\n",
       "      <th>post_author</th>\n",
       "      <th>views</th>\n",
       "      <th>forwards</th>\n",
       "      <th>replies</th>\n",
       "      <th>fwd_from_channel_id</th>\n",
       "    </tr>\n",
       "  </thead>\n",
       "  <tbody>\n",
       "    <tr>\n",
       "      <th>860</th>\n",
       "      <td>1459890679</td>\n",
       "      <td>936</td>\n",
       "      <td>2021-02-25</td>\n",
       "      <td>Former Staffer Accuses Gov. Andrew Cuomo of Sexual Harassment\\nhttps://www.breitbart.com/politics/2021/02/24/former-staffer-accuses-gov-andrew-cuomo-of-sexual-harassment/</td>\n",
       "      <td>None</td>\n",
       "      <td>None</td>\n",
       "      <td>None</td>\n",
       "      <td>144480</td>\n",
       "      <td>114</td>\n",
       "      <td>374</td>\n",
       "      <td>1278844630</td>\n",
       "    </tr>\n",
       "  </tbody>\n",
       "</table>\n",
       "</div>"
      ],
      "text/plain": [
       "     channel_id  message_id        date  \\\n",
       "860  1459890679         936  2021-02-25   \n",
       "\n",
       "                                                                                                                                                                        message  \\\n",
       "860  Former Staffer Accuses Gov. Andrew Cuomo of Sexual Harassment\\nhttps://www.breitbart.com/politics/2021/02/24/former-staffer-accuses-gov-andrew-cuomo-of-sexual-harassment/   \n",
       "\n",
       "    from_user_id from_peer_channel post_author   views  forwards replies  \\\n",
       "860         None              None        None  144480       114     374   \n",
       "\n",
       "    fwd_from_channel_id  \n",
       "860          1278844630  "
      ]
     },
     "execution_count": 7,
     "metadata": {},
     "output_type": "execute_result"
    }
   ],
   "source": [
    "len(chat_df[chat_df.message.str.contains('breitbart', case=False) == True])\n",
    "chat_df[chat_df.message.str.contains('breitbart.com', case=False) == True]"
   ]
  },
  {
   "cell_type": "code",
   "execution_count": 8,
   "metadata": {},
   "outputs": [
    {
     "data": {
      "text/html": [
       "<div>\n",
       "<style scoped>\n",
       "    .dataframe tbody tr th:only-of-type {\n",
       "        vertical-align: middle;\n",
       "    }\n",
       "\n",
       "    .dataframe tbody tr th {\n",
       "        vertical-align: top;\n",
       "    }\n",
       "\n",
       "    .dataframe thead th {\n",
       "        text-align: right;\n",
       "    }\n",
       "</style>\n",
       "<table border=\"1\" class=\"dataframe\">\n",
       "  <thead>\n",
       "    <tr style=\"text-align: right;\">\n",
       "      <th></th>\n",
       "      <th>channel_id</th>\n",
       "      <th>message_id</th>\n",
       "      <th>date</th>\n",
       "      <th>message</th>\n",
       "      <th>from_user_id</th>\n",
       "      <th>from_peer_channel</th>\n",
       "      <th>post_author</th>\n",
       "      <th>views</th>\n",
       "      <th>forwards</th>\n",
       "      <th>replies</th>\n",
       "      <th>fwd_from_channel_id</th>\n",
       "    </tr>\n",
       "  </thead>\n",
       "  <tbody>\n",
       "  </tbody>\n",
       "</table>\n",
       "</div>"
      ],
      "text/plain": [
       "Empty DataFrame\n",
       "Columns: [channel_id, message_id, date, message, from_user_id, from_peer_channel, post_author, views, forwards, replies, fwd_from_channel_id]\n",
       "Index: []"
      ]
     },
     "execution_count": 8,
     "metadata": {},
     "output_type": "execute_result"
    }
   ],
   "source": [
    "chat_df[chat_df['from_user_id'].notnull()]"
   ]
  },
  {
   "cell_type": "code",
   "execution_count": 9,
   "metadata": {},
   "outputs": [
    {
     "data": {
      "text/plain": [
       "1462338131    265\n",
       "1294256027     57\n",
       "1396332892     34\n",
       "1295158110     30\n",
       "1405021412     30\n",
       "Name: fwd_from_channel_id, dtype: int64"
      ]
     },
     "execution_count": 9,
     "metadata": {},
     "output_type": "execute_result"
    }
   ],
   "source": [
    "chat_df['fwd_from_channel_id'].value_counts().head()"
   ]
  },
  {
   "cell_type": "code",
   "execution_count": 10,
   "metadata": {},
   "outputs": [
    {
     "data": {
      "text/html": [
       "<div>\n",
       "<style scoped>\n",
       "    .dataframe tbody tr th:only-of-type {\n",
       "        vertical-align: middle;\n",
       "    }\n",
       "\n",
       "    .dataframe tbody tr th {\n",
       "        vertical-align: top;\n",
       "    }\n",
       "\n",
       "    .dataframe thead th {\n",
       "        text-align: right;\n",
       "    }\n",
       "</style>\n",
       "<table border=\"1\" class=\"dataframe\">\n",
       "  <thead>\n",
       "    <tr style=\"text-align: right;\">\n",
       "      <th></th>\n",
       "      <th>channel_id</th>\n",
       "      <th>message_id</th>\n",
       "      <th>date</th>\n",
       "      <th>message</th>\n",
       "      <th>from_user_id</th>\n",
       "      <th>from_peer_channel</th>\n",
       "      <th>post_author</th>\n",
       "      <th>views</th>\n",
       "      <th>forwards</th>\n",
       "      <th>replies</th>\n",
       "      <th>fwd_from_channel_id</th>\n",
       "    </tr>\n",
       "  </thead>\n",
       "  <tbody>\n",
       "    <tr>\n",
       "      <th>1</th>\n",
       "      <td>1459890679</td>\n",
       "      <td>1954</td>\n",
       "      <td>2021-08-17</td>\n",
       "      <td>All eyes on the Arizona audit: https://saferead.org/az-audit-takes-wild-turn-after-subpoenaed-voting-machines-are-tossed</td>\n",
       "      <td>None</td>\n",
       "      <td>None</td>\n",
       "      <td>None</td>\n",
       "      <td>86487</td>\n",
       "      <td>191</td>\n",
       "      <td>169</td>\n",
       "      <td>None</td>\n",
       "    </tr>\n",
       "  </tbody>\n",
       "</table>\n",
       "</div>"
      ],
      "text/plain": [
       "   channel_id  message_id        date  \\\n",
       "1  1459890679        1954  2021-08-17   \n",
       "\n",
       "                                                                                                                    message  \\\n",
       "1  All eyes on the Arizona audit: https://saferead.org/az-audit-takes-wild-turn-after-subpoenaed-voting-machines-are-tossed   \n",
       "\n",
       "  from_user_id from_peer_channel post_author  views  forwards replies  \\\n",
       "1         None              None        None  86487       191     169   \n",
       "\n",
       "  fwd_from_channel_id  \n",
       "1                None  "
      ]
     },
     "execution_count": 10,
     "metadata": {},
     "output_type": "execute_result"
    }
   ],
   "source": [
    "chat_df.sort_values('date', ascending = False).head(1)"
   ]
  },
  {
   "cell_type": "markdown",
   "metadata": {},
   "source": [
    "Cannot retrieve user replies to posts"
   ]
  },
  {
   "cell_type": "markdown",
   "metadata": {},
   "source": [
    "## Bot actions"
   ]
  },
  {
   "cell_type": "code",
   "execution_count": 11,
   "metadata": {},
   "outputs": [],
   "source": [
    "bot_client = TelegramClient('bot', api_id, api_hash)\n",
    "await bot_client.start(bot_token = bot_token)\n",
    "await bot_client.connect()"
   ]
  },
  {
   "cell_type": "code",
   "execution_count": 12,
   "metadata": {},
   "outputs": [
    {
     "ename": "PeerIdInvalidError",
     "evalue": "An invalid Peer was used. Make sure to pass the right peer type and that the value is valid (for instance, bots cannot start conversations) (caused by SendMessageRequest)",
     "output_type": "error",
     "traceback": [
      "\u001b[0;31m---------------------------------------------------------------------------\u001b[0m",
      "\u001b[0;31mPeerIdInvalidError\u001b[0m                        Traceback (most recent call last)",
      "\u001b[0;32m<ipython-input-12-038113371bdf>\u001b[0m in \u001b[0;36m<module>\u001b[0;34m\u001b[0m\n\u001b[1;32m      1\u001b[0m \u001b[0;31m# Send a message with a bot\u001b[0m\u001b[0;34m\u001b[0m\u001b[0;34m\u001b[0m\u001b[0;34m\u001b[0m\u001b[0m\n\u001b[0;32m----> 2\u001b[0;31m \u001b[0;32mawait\u001b[0m \u001b[0mbot_client\u001b[0m\u001b[0;34m.\u001b[0m\u001b[0msend_message\u001b[0m\u001b[0;34m(\u001b[0m\u001b[0;34m'RandomPerson5'\u001b[0m\u001b[0;34m,\u001b[0m \u001b[0;34m'Hello World from Telethon! August 16th'\u001b[0m\u001b[0;34m)\u001b[0m\u001b[0;34m\u001b[0m\u001b[0;34m\u001b[0m\u001b[0m\n\u001b[0m",
      "\u001b[0;32m~/opt/anaconda3/lib/python3.8/site-packages/telethon/client/messages.py\u001b[0m in \u001b[0;36msend_message\u001b[0;34m(self, entity, message, reply_to, parse_mode, formatting_entities, link_preview, file, force_document, clear_draft, buttons, silent, schedule, comment_to)\u001b[0m\n\u001b[1;32m    824\u001b[0m             )\n\u001b[1;32m    825\u001b[0m \u001b[0;34m\u001b[0m\u001b[0m\n\u001b[0;32m--> 826\u001b[0;31m         \u001b[0mresult\u001b[0m \u001b[0;34m=\u001b[0m \u001b[0;32mawait\u001b[0m \u001b[0mself\u001b[0m\u001b[0;34m(\u001b[0m\u001b[0mrequest\u001b[0m\u001b[0;34m)\u001b[0m\u001b[0;34m\u001b[0m\u001b[0;34m\u001b[0m\u001b[0m\n\u001b[0m\u001b[1;32m    827\u001b[0m         \u001b[0;32mif\u001b[0m \u001b[0misinstance\u001b[0m\u001b[0;34m(\u001b[0m\u001b[0mresult\u001b[0m\u001b[0;34m,\u001b[0m \u001b[0mtypes\u001b[0m\u001b[0;34m.\u001b[0m\u001b[0mUpdateShortSentMessage\u001b[0m\u001b[0;34m)\u001b[0m\u001b[0;34m:\u001b[0m\u001b[0;34m\u001b[0m\u001b[0;34m\u001b[0m\u001b[0m\n\u001b[1;32m    828\u001b[0m             message = types.Message(\n",
      "\u001b[0;32m~/opt/anaconda3/lib/python3.8/site-packages/telethon/client/users.py\u001b[0m in \u001b[0;36m__call__\u001b[0;34m(self, request, ordered)\u001b[0m\n\u001b[1;32m     28\u001b[0m \u001b[0;32mclass\u001b[0m \u001b[0mUserMethods\u001b[0m\u001b[0;34m:\u001b[0m\u001b[0;34m\u001b[0m\u001b[0;34m\u001b[0m\u001b[0m\n\u001b[1;32m     29\u001b[0m     \u001b[0;32masync\u001b[0m \u001b[0;32mdef\u001b[0m \u001b[0m__call__\u001b[0m\u001b[0;34m(\u001b[0m\u001b[0mself\u001b[0m\u001b[0;34m:\u001b[0m \u001b[0;34m'TelegramClient'\u001b[0m\u001b[0;34m,\u001b[0m \u001b[0mrequest\u001b[0m\u001b[0;34m,\u001b[0m \u001b[0mordered\u001b[0m\u001b[0;34m=\u001b[0m\u001b[0;32mFalse\u001b[0m\u001b[0;34m)\u001b[0m\u001b[0;34m:\u001b[0m\u001b[0;34m\u001b[0m\u001b[0;34m\u001b[0m\u001b[0m\n\u001b[0;32m---> 30\u001b[0;31m         \u001b[0;32mreturn\u001b[0m \u001b[0;32mawait\u001b[0m \u001b[0mself\u001b[0m\u001b[0;34m.\u001b[0m\u001b[0m_call\u001b[0m\u001b[0;34m(\u001b[0m\u001b[0mself\u001b[0m\u001b[0;34m.\u001b[0m\u001b[0m_sender\u001b[0m\u001b[0;34m,\u001b[0m \u001b[0mrequest\u001b[0m\u001b[0;34m,\u001b[0m \u001b[0mordered\u001b[0m\u001b[0;34m=\u001b[0m\u001b[0mordered\u001b[0m\u001b[0;34m)\u001b[0m\u001b[0;34m\u001b[0m\u001b[0;34m\u001b[0m\u001b[0m\n\u001b[0m\u001b[1;32m     31\u001b[0m \u001b[0;34m\u001b[0m\u001b[0m\n\u001b[1;32m     32\u001b[0m     \u001b[0;32masync\u001b[0m \u001b[0;32mdef\u001b[0m \u001b[0m_call\u001b[0m\u001b[0;34m(\u001b[0m\u001b[0mself\u001b[0m\u001b[0;34m:\u001b[0m \u001b[0;34m'TelegramClient'\u001b[0m\u001b[0;34m,\u001b[0m \u001b[0msender\u001b[0m\u001b[0;34m,\u001b[0m \u001b[0mrequest\u001b[0m\u001b[0;34m,\u001b[0m \u001b[0mordered\u001b[0m\u001b[0;34m=\u001b[0m\u001b[0;32mFalse\u001b[0m\u001b[0;34m)\u001b[0m\u001b[0;34m:\u001b[0m\u001b[0;34m\u001b[0m\u001b[0;34m\u001b[0m\u001b[0m\n",
      "\u001b[0;32m~/opt/anaconda3/lib/python3.8/site-packages/telethon/client/users.py\u001b[0m in \u001b[0;36m_call\u001b[0;34m(self, sender, request, ordered)\u001b[0m\n\u001b[1;32m     77\u001b[0m                         \u001b[0;32mreturn\u001b[0m \u001b[0mresults\u001b[0m\u001b[0;34m\u001b[0m\u001b[0;34m\u001b[0m\u001b[0m\n\u001b[1;32m     78\u001b[0m                 \u001b[0;32melse\u001b[0m\u001b[0;34m:\u001b[0m\u001b[0;34m\u001b[0m\u001b[0;34m\u001b[0m\u001b[0m\n\u001b[0;32m---> 79\u001b[0;31m                     \u001b[0mresult\u001b[0m \u001b[0;34m=\u001b[0m \u001b[0;32mawait\u001b[0m \u001b[0mfuture\u001b[0m\u001b[0;34m\u001b[0m\u001b[0;34m\u001b[0m\u001b[0m\n\u001b[0m\u001b[1;32m     80\u001b[0m                     \u001b[0mself\u001b[0m\u001b[0;34m.\u001b[0m\u001b[0msession\u001b[0m\u001b[0;34m.\u001b[0m\u001b[0mprocess_entities\u001b[0m\u001b[0;34m(\u001b[0m\u001b[0mresult\u001b[0m\u001b[0;34m)\u001b[0m\u001b[0;34m\u001b[0m\u001b[0;34m\u001b[0m\u001b[0m\n\u001b[1;32m     81\u001b[0m                     \u001b[0mself\u001b[0m\u001b[0;34m.\u001b[0m\u001b[0m_entity_cache\u001b[0m\u001b[0;34m.\u001b[0m\u001b[0madd\u001b[0m\u001b[0;34m(\u001b[0m\u001b[0mresult\u001b[0m\u001b[0;34m)\u001b[0m\u001b[0;34m\u001b[0m\u001b[0;34m\u001b[0m\u001b[0m\n",
      "\u001b[0;31mPeerIdInvalidError\u001b[0m: An invalid Peer was used. Make sure to pass the right peer type and that the value is valid (for instance, bots cannot start conversations) (caused by SendMessageRequest)"
     ]
    }
   ],
   "source": [
    "# Send a message with a bot\n",
    "await bot_client.send_message('RandomPerson5', 'Hello World from Telethon! August 16th')"
   ]
  },
  {
   "cell_type": "code",
   "execution_count": 15,
   "metadata": {},
   "outputs": [
    {
     "ename": "BotMethodInvalidError",
     "evalue": "The API access for bot users is restricted. The method you tried to invoke cannot be executed as a bot (caused by JoinChannelRequest)",
     "output_type": "error",
     "traceback": [
      "\u001b[0;31m---------------------------------------------------------------------------\u001b[0m",
      "\u001b[0;31mBotMethodInvalidError\u001b[0m                     Traceback (most recent call last)",
      "\u001b[0;32m<ipython-input-15-1ec404a95d0b>\u001b[0m in \u001b[0;36m<module>\u001b[0;34m\u001b[0m\n\u001b[1;32m      1\u001b[0m \u001b[0;31m# Join a channel with a bot\u001b[0m\u001b[0;34m\u001b[0m\u001b[0;34m\u001b[0m\u001b[0;34m\u001b[0m\u001b[0m\n\u001b[0;32m----> 2\u001b[0;31m \u001b[0;32mawait\u001b[0m \u001b[0mbot_client\u001b[0m\u001b[0;34m(\u001b[0m\u001b[0mJoinChannelRequest\u001b[0m\u001b[0;34m(\u001b[0m\u001b[0;34m'https://t.me/TrumpChannel'\u001b[0m\u001b[0;34m)\u001b[0m\u001b[0;34m)\u001b[0m\u001b[0;34m\u001b[0m\u001b[0;34m\u001b[0m\u001b[0m\n\u001b[0m",
      "\u001b[0;32m~/opt/anaconda3/lib/python3.8/site-packages/telethon/client/users.py\u001b[0m in \u001b[0;36m__call__\u001b[0;34m(self, request, ordered)\u001b[0m\n\u001b[1;32m     28\u001b[0m \u001b[0;32mclass\u001b[0m \u001b[0mUserMethods\u001b[0m\u001b[0;34m:\u001b[0m\u001b[0;34m\u001b[0m\u001b[0;34m\u001b[0m\u001b[0m\n\u001b[1;32m     29\u001b[0m     \u001b[0;32masync\u001b[0m \u001b[0;32mdef\u001b[0m \u001b[0m__call__\u001b[0m\u001b[0;34m(\u001b[0m\u001b[0mself\u001b[0m\u001b[0;34m:\u001b[0m \u001b[0;34m'TelegramClient'\u001b[0m\u001b[0;34m,\u001b[0m \u001b[0mrequest\u001b[0m\u001b[0;34m,\u001b[0m \u001b[0mordered\u001b[0m\u001b[0;34m=\u001b[0m\u001b[0;32mFalse\u001b[0m\u001b[0;34m)\u001b[0m\u001b[0;34m:\u001b[0m\u001b[0;34m\u001b[0m\u001b[0;34m\u001b[0m\u001b[0m\n\u001b[0;32m---> 30\u001b[0;31m         \u001b[0;32mreturn\u001b[0m \u001b[0;32mawait\u001b[0m \u001b[0mself\u001b[0m\u001b[0;34m.\u001b[0m\u001b[0m_call\u001b[0m\u001b[0;34m(\u001b[0m\u001b[0mself\u001b[0m\u001b[0;34m.\u001b[0m\u001b[0m_sender\u001b[0m\u001b[0;34m,\u001b[0m \u001b[0mrequest\u001b[0m\u001b[0;34m,\u001b[0m \u001b[0mordered\u001b[0m\u001b[0;34m=\u001b[0m\u001b[0mordered\u001b[0m\u001b[0;34m)\u001b[0m\u001b[0;34m\u001b[0m\u001b[0;34m\u001b[0m\u001b[0m\n\u001b[0m\u001b[1;32m     31\u001b[0m \u001b[0;34m\u001b[0m\u001b[0m\n\u001b[1;32m     32\u001b[0m     \u001b[0;32masync\u001b[0m \u001b[0;32mdef\u001b[0m \u001b[0m_call\u001b[0m\u001b[0;34m(\u001b[0m\u001b[0mself\u001b[0m\u001b[0;34m:\u001b[0m \u001b[0;34m'TelegramClient'\u001b[0m\u001b[0;34m,\u001b[0m \u001b[0msender\u001b[0m\u001b[0;34m,\u001b[0m \u001b[0mrequest\u001b[0m\u001b[0;34m,\u001b[0m \u001b[0mordered\u001b[0m\u001b[0;34m=\u001b[0m\u001b[0;32mFalse\u001b[0m\u001b[0;34m)\u001b[0m\u001b[0;34m:\u001b[0m\u001b[0;34m\u001b[0m\u001b[0;34m\u001b[0m\u001b[0m\n",
      "\u001b[0;32m~/opt/anaconda3/lib/python3.8/site-packages/telethon/client/users.py\u001b[0m in \u001b[0;36m_call\u001b[0;34m(self, sender, request, ordered)\u001b[0m\n\u001b[1;32m     77\u001b[0m                         \u001b[0;32mreturn\u001b[0m \u001b[0mresults\u001b[0m\u001b[0;34m\u001b[0m\u001b[0;34m\u001b[0m\u001b[0m\n\u001b[1;32m     78\u001b[0m                 \u001b[0;32melse\u001b[0m\u001b[0;34m:\u001b[0m\u001b[0;34m\u001b[0m\u001b[0;34m\u001b[0m\u001b[0m\n\u001b[0;32m---> 79\u001b[0;31m                     \u001b[0mresult\u001b[0m \u001b[0;34m=\u001b[0m \u001b[0;32mawait\u001b[0m \u001b[0mfuture\u001b[0m\u001b[0;34m\u001b[0m\u001b[0;34m\u001b[0m\u001b[0m\n\u001b[0m\u001b[1;32m     80\u001b[0m                     \u001b[0mself\u001b[0m\u001b[0;34m.\u001b[0m\u001b[0msession\u001b[0m\u001b[0;34m.\u001b[0m\u001b[0mprocess_entities\u001b[0m\u001b[0;34m(\u001b[0m\u001b[0mresult\u001b[0m\u001b[0;34m)\u001b[0m\u001b[0;34m\u001b[0m\u001b[0;34m\u001b[0m\u001b[0m\n\u001b[1;32m     81\u001b[0m                     \u001b[0mself\u001b[0m\u001b[0;34m.\u001b[0m\u001b[0m_entity_cache\u001b[0m\u001b[0;34m.\u001b[0m\u001b[0madd\u001b[0m\u001b[0;34m(\u001b[0m\u001b[0mresult\u001b[0m\u001b[0;34m)\u001b[0m\u001b[0;34m\u001b[0m\u001b[0;34m\u001b[0m\u001b[0m\n",
      "\u001b[0;31mBotMethodInvalidError\u001b[0m: The API access for bot users is restricted. The method you tried to invoke cannot be executed as a bot (caused by JoinChannelRequest)"
     ]
    }
   ],
   "source": [
    "# Join a channel with a bot\n",
    "await bot_client(JoinChannelRequest('https://t.me/TrumpChannel'))"
   ]
  },
  {
   "cell_type": "code",
   "execution_count": 16,
   "metadata": {},
   "outputs": [
    {
     "data": {
      "text/plain": [
       "<telethon.tl.patched.Message at 0x7ffe3953de80>"
      ]
     },
     "execution_count": 16,
     "metadata": {},
     "output_type": "execute_result"
    }
   ],
   "source": [
    "await bot_client.send_message('https://t.me/learningtelegram2', 'I sent this from my Telegram bot')"
   ]
  },
  {
   "cell_type": "markdown",
   "metadata": {},
   "source": [
    "## Automating user interactions"
   ]
  },
  {
   "cell_type": "markdown",
   "metadata": {},
   "source": [
    "First we created a channel called learningtelegram2.  "
   ]
  },
  {
   "cell_type": "code",
   "execution_count": 17,
   "metadata": {},
   "outputs": [
    {
     "data": {
      "text/html": [
       "<div>\n",
       "<style scoped>\n",
       "    .dataframe tbody tr th:only-of-type {\n",
       "        vertical-align: middle;\n",
       "    }\n",
       "\n",
       "    .dataframe tbody tr th {\n",
       "        vertical-align: top;\n",
       "    }\n",
       "\n",
       "    .dataframe thead th {\n",
       "        text-align: right;\n",
       "    }\n",
       "</style>\n",
       "<table border=\"1\" class=\"dataframe\">\n",
       "  <thead>\n",
       "    <tr style=\"text-align: right;\">\n",
       "      <th></th>\n",
       "      <th>full_chat.id</th>\n",
       "      <th>title</th>\n",
       "      <th>full_chat.about</th>\n",
       "      <th>full_chat.can_view_participants</th>\n",
       "      <th>full_chat.participants_count</th>\n",
       "    </tr>\n",
       "  </thead>\n",
       "  <tbody>\n",
       "    <tr>\n",
       "      <th>0</th>\n",
       "      <td>1543257888</td>\n",
       "      <td>Learning Telegram</td>\n",
       "      <td>Learning how to use Telegram with Python</td>\n",
       "      <td>True</td>\n",
       "      <td>2</td>\n",
       "    </tr>\n",
       "  </tbody>\n",
       "</table>\n",
       "</div>"
      ],
      "text/plain": [
       "   full_chat.id              title                           full_chat.about  \\\n",
       "0    1543257888  Learning Telegram  Learning how to use Telegram with Python   \n",
       "\n",
       "   full_chat.can_view_participants  full_chat.participants_count  \n",
       "0                             True                             2  "
      ]
     },
     "execution_count": 17,
     "metadata": {},
     "output_type": "execute_result"
    }
   ],
   "source": [
    "r = await client(GetFullChannelRequest(channel='https://t.me/learningtelegram2'))\n",
    "ch_full = pd.json_normalize(r.to_dict())    \n",
    "ch_full['title'] = pd.json_normalize(r.to_dict())['chats'][0][0]['title']\n",
    "ch_full = ch_full[['full_chat.id', \n",
    "                   'title',                       \n",
    "                   'full_chat.about', \n",
    "                   'full_chat.can_view_participants', \n",
    "                   'full_chat.participants_count']]\n",
    "ch_full"
   ]
  },
  {
   "cell_type": "markdown",
   "metadata": {},
   "source": [
    "Next we send a message from our RandomPeron4 account."
   ]
  },
  {
   "cell_type": "code",
   "execution_count": 18,
   "metadata": {},
   "outputs": [
    {
     "data": {
      "text/plain": [
       "<telethon.tl.patched.Message at 0x7ffe38ac3af0>"
      ]
     },
     "execution_count": 18,
     "metadata": {},
     "output_type": "execute_result"
    }
   ],
   "source": [
    "await client.send_message('RandomPerson4', 'Hello from RandomPerson5')"
   ]
  },
  {
   "cell_type": "code",
   "execution_count": 19,
   "metadata": {},
   "outputs": [
    {
     "data": {
      "text/plain": [
       "<telethon.tl.patched.Message at 0x7ffe3953d670>"
      ]
     },
     "execution_count": 19,
     "metadata": {},
     "output_type": "execute_result"
    }
   ],
   "source": [
    "await client.send_message('https://t.me/learningtelegram2', 'I sent this from Python')"
   ]
  },
  {
   "cell_type": "code",
   "execution_count": 20,
   "metadata": {},
   "outputs": [
    {
     "data": {
      "text/plain": [
       "<telethon.tl.patched.Message at 0x7ffdfa6b42b0>"
      ]
     },
     "execution_count": 20,
     "metadata": {},
     "output_type": "execute_result"
    }
   ],
   "source": [
    "await bot_client.send_message('https://t.me/learningtelegram2', 'Hello World sent from a bot')"
   ]
  },
  {
   "cell_type": "code",
   "execution_count": 21,
   "metadata": {},
   "outputs": [],
   "source": [
    "import asyncio\n",
    "from telethon import events\n",
    "\n",
    "@client.on(events.NewMessage(pattern='(?i)hello.+'))\n",
    "async def handler(event):\n",
    "    # Respond whenever someone says \"Hello\" and something else\n",
    "    await event.reply('Hey!')\n",
    "\n",
    "@client.on(events.NewMessage(outgoing=True, pattern='!ping'))\n",
    "async def handler(event):\n",
    "    # Say \"!pong\" whenever you send \"!ping\", then delete both messages\n",
    "    m = await event.respond('!pong')\n",
    "    await asyncio.sleep(5)\n",
    "    await client.delete_messages(event.chat_id, [event.id, m.id])"
   ]
  },
  {
   "cell_type": "code",
   "execution_count": 22,
   "metadata": {},
   "outputs": [
    {
     "name": "stdout",
     "output_type": "stream",
     "text": [
      "number of chats: 7\n"
     ]
    },
    {
     "data": {
      "text/html": [
       "<div>\n",
       "<style scoped>\n",
       "    .dataframe tbody tr th:only-of-type {\n",
       "        vertical-align: middle;\n",
       "    }\n",
       "\n",
       "    .dataframe tbody tr th {\n",
       "        vertical-align: top;\n",
       "    }\n",
       "\n",
       "    .dataframe thead th {\n",
       "        text-align: right;\n",
       "    }\n",
       "</style>\n",
       "<table border=\"1\" class=\"dataframe\">\n",
       "  <thead>\n",
       "    <tr style=\"text-align: right;\">\n",
       "      <th></th>\n",
       "      <th>channel_id</th>\n",
       "      <th>message_id</th>\n",
       "      <th>date</th>\n",
       "      <th>message</th>\n",
       "      <th>from_user_id</th>\n",
       "      <th>from_peer_channel</th>\n",
       "      <th>post_author</th>\n",
       "      <th>views</th>\n",
       "      <th>forwards</th>\n",
       "      <th>replies</th>\n",
       "      <th>fwd_from_channel_id</th>\n",
       "    </tr>\n",
       "  </thead>\n",
       "  <tbody>\n",
       "    <tr>\n",
       "      <th>0</th>\n",
       "      <td>1543257888</td>\n",
       "      <td>28</td>\n",
       "      <td>2021-08-17</td>\n",
       "      <td>Hello World sent from a bot</td>\n",
       "      <td>None</td>\n",
       "      <td>None</td>\n",
       "      <td>survey_bot_14</td>\n",
       "      <td>2</td>\n",
       "      <td>0</td>\n",
       "      <td>None</td>\n",
       "      <td>None</td>\n",
       "    </tr>\n",
       "    <tr>\n",
       "      <th>2</th>\n",
       "      <td>1543257888</td>\n",
       "      <td>26</td>\n",
       "      <td>2021-08-17</td>\n",
       "      <td>I sent this from my Telegram bot</td>\n",
       "      <td>None</td>\n",
       "      <td>None</td>\n",
       "      <td>survey_bot_14</td>\n",
       "      <td>2</td>\n",
       "      <td>0</td>\n",
       "      <td>None</td>\n",
       "      <td>None</td>\n",
       "    </tr>\n",
       "    <tr>\n",
       "      <th>4</th>\n",
       "      <td>1543257888</td>\n",
       "      <td>24</td>\n",
       "      <td>2021-08-16</td>\n",
       "      <td>Hello World sent from a bot</td>\n",
       "      <td>None</td>\n",
       "      <td>None</td>\n",
       "      <td>survey_bot_14</td>\n",
       "      <td>2</td>\n",
       "      <td>0</td>\n",
       "      <td>None</td>\n",
       "      <td>None</td>\n",
       "    </tr>\n",
       "    <tr>\n",
       "      <th>6</th>\n",
       "      <td>1543257888</td>\n",
       "      <td>19</td>\n",
       "      <td>2021-08-16</td>\n",
       "      <td>I sent this from my Telegram bot</td>\n",
       "      <td>None</td>\n",
       "      <td>None</td>\n",
       "      <td>survey_bot_14</td>\n",
       "      <td>2</td>\n",
       "      <td>0</td>\n",
       "      <td>None</td>\n",
       "      <td>None</td>\n",
       "    </tr>\n",
       "    <tr>\n",
       "      <th>1</th>\n",
       "      <td>1543257888</td>\n",
       "      <td>27</td>\n",
       "      <td>2021-08-17</td>\n",
       "      <td>I sent this from Python</td>\n",
       "      <td>None</td>\n",
       "      <td>None</td>\n",
       "      <td>Random Person5</td>\n",
       "      <td>1</td>\n",
       "      <td>0</td>\n",
       "      <td>None</td>\n",
       "      <td>None</td>\n",
       "    </tr>\n",
       "    <tr>\n",
       "      <th>3</th>\n",
       "      <td>1543257888</td>\n",
       "      <td>25</td>\n",
       "      <td>2021-08-16</td>\n",
       "      <td>Hey!</td>\n",
       "      <td>None</td>\n",
       "      <td>None</td>\n",
       "      <td>Random Person5</td>\n",
       "      <td>1</td>\n",
       "      <td>0</td>\n",
       "      <td>None</td>\n",
       "      <td>None</td>\n",
       "    </tr>\n",
       "    <tr>\n",
       "      <th>5</th>\n",
       "      <td>1543257888</td>\n",
       "      <td>21</td>\n",
       "      <td>2021-08-16</td>\n",
       "      <td>I sent this from Python</td>\n",
       "      <td>None</td>\n",
       "      <td>None</td>\n",
       "      <td>Random Person5</td>\n",
       "      <td>1</td>\n",
       "      <td>0</td>\n",
       "      <td>None</td>\n",
       "      <td>None</td>\n",
       "    </tr>\n",
       "  </tbody>\n",
       "</table>\n",
       "</div>"
      ],
      "text/plain": [
       "   channel_id  message_id        date                           message  \\\n",
       "0  1543257888          28  2021-08-17       Hello World sent from a bot   \n",
       "2  1543257888          26  2021-08-17  I sent this from my Telegram bot   \n",
       "4  1543257888          24  2021-08-16       Hello World sent from a bot   \n",
       "6  1543257888          19  2021-08-16  I sent this from my Telegram bot   \n",
       "1  1543257888          27  2021-08-17           I sent this from Python   \n",
       "3  1543257888          25  2021-08-16                              Hey!   \n",
       "5  1543257888          21  2021-08-16           I sent this from Python   \n",
       "\n",
       "  from_user_id from_peer_channel     post_author  views  forwards replies  \\\n",
       "0         None              None   survey_bot_14      2         0    None   \n",
       "2         None              None   survey_bot_14      2         0    None   \n",
       "4         None              None   survey_bot_14      2         0    None   \n",
       "6         None              None   survey_bot_14      2         0    None   \n",
       "1         None              None  Random Person5      1         0    None   \n",
       "3         None              None  Random Person5      1         0    None   \n",
       "5         None              None  Random Person5      1         0    None   \n",
       "\n",
       "  fwd_from_channel_id  \n",
       "0                None  \n",
       "2                None  \n",
       "4                None  \n",
       "6                None  \n",
       "1                None  \n",
       "3                None  \n",
       "5                None  "
      ]
     },
     "execution_count": 22,
     "metadata": {},
     "output_type": "execute_result"
    }
   ],
   "source": [
    "chats = await client.get_messages('https://t.me/learningtelegram2', None)\n",
    "\n",
    "pd.options.display.max_colwidth = 2000\n",
    "pd.options.display.max_rows = 300\n",
    "chat_list = []\n",
    "for i in range(0, len(chats)):\n",
    "    \n",
    "    try:\n",
    "        channel_id = [chats[i].to_dict()['peer_id']['channel_id']]\n",
    "    except:\n",
    "        channel_id = [None]\n",
    "    \n",
    "    try:\n",
    "        message_id = [chats[i].to_dict()['id']]\n",
    "    except:\n",
    "        message_id = [None]\n",
    "        \n",
    "    try:\n",
    "        date = [chats[i].to_dict()['date']]\n",
    "    except:\n",
    "        date = [None]    \n",
    "        \n",
    "    try:\n",
    "        message = [chats[i].to_dict()['message']]\n",
    "    except:\n",
    "        message = [None]                    \n",
    "    \n",
    "    try:\n",
    "        from_user_id = [chats[i].to_dict()['from_id']['user_id']]\n",
    "    except:\n",
    "        from_user_id = [None]\n",
    "        \n",
    "    try:\n",
    "        from_peer_channel = [chats[i].to_dict()['from_id']['PeerChannel']]\n",
    "    except:\n",
    "        from_peer_channel = [None]  \n",
    "        \n",
    "    try:\n",
    "        replies = [chats[i].to_dict()['replies']['replies']]\n",
    "    except:\n",
    "        replies = [None]\n",
    "    \n",
    "    try: \n",
    "        forwards = [chats[i].to_dict()['forwards']]\n",
    "    except:\n",
    "        forwards = [None] \n",
    "    \n",
    "    try: \n",
    "        fwd_from_channel_id = chats[i].to_dict()['fwd_from']['from_id']['channel_id']    \n",
    "    except:\n",
    "        fwd_from_channel_id = [None]     \n",
    "        \n",
    "    try:\n",
    "        chat_list.append(pd.DataFrame({'channel_id': channel_id,\n",
    "                                       'message_id': message_id,\n",
    "                                       'date': date,\n",
    "                                       'message': message,\n",
    "                                       'from_user_id': from_user_id,\n",
    "                                       'from_peer_channel': from_peer_channel,\n",
    "                                       'post_author': [chats[i].to_dict()['post_author']],\n",
    "                                       'views': [chats[i].to_dict()['views']],                                       \n",
    "                                       'forwards': forwards,                                      \n",
    "                                       'replies': replies,\n",
    "                                       'fwd_from_channel_id': fwd_from_channel_id}))\n",
    "    except:\n",
    "        pass\n",
    "        #print(i)\n",
    "chat_df = pd.concat(chat_list)\n",
    "chat_df.reset_index(inplace = True, drop = True)\n",
    "chat_df = chat_df.sort_values('views', ascending = False)\n",
    "chat_df['date'] = pd.to_datetime(chat_df['date']).dt.date\n",
    "print(\"number of chats: \" + str(len(chat_df)))\n",
    "chat_df.head(10)"
   ]
  },
  {
   "cell_type": "code",
   "execution_count": 23,
   "metadata": {},
   "outputs": [
    {
     "data": {
      "text/plain": [
       "{'_': 'Message',\n",
       " 'id': 28,\n",
       " 'peer_id': {'_': 'PeerChannel', 'channel_id': 1543257888},\n",
       " 'date': datetime.datetime(2021, 8, 17, 18, 3, 6, tzinfo=datetime.timezone.utc),\n",
       " 'message': 'Hello World sent from a bot',\n",
       " 'out': False,\n",
       " 'mentioned': False,\n",
       " 'media_unread': False,\n",
       " 'silent': False,\n",
       " 'post': True,\n",
       " 'from_scheduled': False,\n",
       " 'legacy': False,\n",
       " 'edit_hide': False,\n",
       " 'pinned': False,\n",
       " 'from_id': None,\n",
       " 'fwd_from': None,\n",
       " 'via_bot_id': None,\n",
       " 'reply_to': None,\n",
       " 'media': None,\n",
       " 'reply_markup': None,\n",
       " 'entities': [],\n",
       " 'views': 2,\n",
       " 'forwards': 0,\n",
       " 'replies': None,\n",
       " 'edit_date': None,\n",
       " 'post_author': 'survey_bot_14',\n",
       " 'grouped_id': None,\n",
       " 'restriction_reason': [],\n",
       " 'ttl_period': None}"
      ]
     },
     "execution_count": 23,
     "metadata": {},
     "output_type": "execute_result"
    }
   ],
   "source": [
    "chats[0].to_dict()"
   ]
  },
  {
   "cell_type": "markdown",
   "metadata": {},
   "source": [
    "We can also join other public channel via the API interface"
   ]
  },
  {
   "cell_type": "code",
   "execution_count": 24,
   "metadata": {},
   "outputs": [
    {
     "data": {
      "text/plain": [
       "<telethon.tl.types.Updates at 0x7ffe3934bbe0>"
      ]
     },
     "execution_count": 24,
     "metadata": {},
     "output_type": "execute_result"
    }
   ],
   "source": [
    "from telethon.tl.functions.channels import JoinChannelRequest, LeaveChannelRequest\n",
    "await client(JoinChannelRequest('https://t.me/TrumpChannel'))"
   ]
  },
  {
   "cell_type": "code",
   "execution_count": 25,
   "metadata": {},
   "outputs": [
    {
     "data": {
      "text/plain": [
       "<telethon.tl.types.Updates at 0x7ffe39347d00>"
      ]
     },
     "execution_count": 25,
     "metadata": {},
     "output_type": "execute_result"
    }
   ],
   "source": [
    "await client(LeaveChannelRequest('https://t.me/TrumpChannel'))"
   ]
  }
 ],
 "metadata": {
  "kernelspec": {
   "display_name": "Python 3",
   "language": "python",
   "name": "python3"
  },
  "language_info": {
   "codemirror_mode": {
    "name": "ipython",
    "version": 3
   },
   "file_extension": ".py",
   "mimetype": "text/x-python",
   "name": "python",
   "nbconvert_exporter": "python",
   "pygments_lexer": "ipython3",
   "version": "3.8.5"
  }
 },
 "nbformat": 4,
 "nbformat_minor": 4
}
