{
 "cells": [
  {
   "cell_type": "markdown",
   "metadata": {},
   "source": [
    "## BLUF:\n",
    "The following workflow describes how to perform the following tasksed used in a recent Twitter field experiment\n"
   ]
  },
  {
   "cell_type": "markdown",
   "metadata": {},
   "source": [
    "## 1. Identify users who share article links from untrustworthy websites"
   ]
  },
  {
   "cell_type": "code",
   "execution_count": 1,
   "metadata": {},
   "outputs": [],
   "source": [
    "import pandas as pd\n",
    "import configparser\n",
    "\n",
    "# Setting config values\n",
    "config = configparser.ConfigParser()\n",
    "config.read(\"/Users/dankoban/Documents/Dissertation/config.ini\")\n",
    "CONSUMER_KEY = config['twitter']['consumer_key_bot']\n",
    "CONSUMER_SECRET = config['twitter']['consumer_secret_bot']\n",
    "ACCESS_KEY = config['twitter']['access_key_bot']\n",
    "ACCESS_SECRET = config['twitter']['access_secret_bot']\n",
    "BEARER_TOKEN = str(config['twitter']['bearer_token_bot'])"
   ]
  },
  {
   "cell_type": "markdown",
   "metadata": {},
   "source": [
    "Connect to endpoint"
   ]
  },
  {
   "cell_type": "code",
   "execution_count": 2,
   "metadata": {},
   "outputs": [],
   "source": [
    "import tweepy\n",
    "import json\n",
    "import os\n",
    "import pandas as pd\n",
    "import time\n",
    "\n",
    "Client = tweepy.Client(bearer_token=BEARER_TOKEN, \n",
    "                       consumer_key=CONSUMER_KEY, \n",
    "                       consumer_secret=CONSUMER_SECRET, \n",
    "                       access_token=ACCESS_KEY, \n",
    "                       access_token_secret=ACCESS_SECRET, \n",
    "                       wait_on_rate_limit=True)"
   ]
  },
  {
   "cell_type": "markdown",
   "metadata": {},
   "source": [
    "Search for a specific article that was fact checked to be false"
   ]
  },
  {
   "cell_type": "code",
   "execution_count": null,
   "metadata": {},
   "outputs": [],
   "source": [
    "run = False\n",
    "if run == True:\n",
    "    r = Client.search_all_tweets(query=\"(ukraine-donated-the-most-cash-of-any-country-to-the-clinton-foundation) (lang:en) -is:retweet\",                                               \n",
    "                                 start_time='2019-01-01T00:00:00.00Z',  \n",
    "                                 end_time='2021-06-01T00:00:00.00Z', \n",
    "                                 max_results=500,                                                  \n",
    "                                 tweet_fields=['author_id',#'context_annotations',\n",
    "                                               'conversation_id',\n",
    "                                               'created_at','entities','geo','id',\n",
    "                                               'in_reply_to_user_id','lang',                                          \n",
    "                                               'public_metrics','referenced_tweets',\n",
    "                                               'reply_settings','source','text','withheld']) \n",
    "    for i in range(0, len(r.data)):\n",
    "        status_id = r.data[i].id                 \n",
    "        r_dump = json.dumps(r.data[i].data, indent = 4)                               \n",
    "        with open('/Users/dankoban/Documents/fe_workflow_data/primary_tweets/'+ str(status_id) + '.json', 'w', encoding='utf-8') as f:\n",
    "                   f.write(r_dump)  "
   ]
  },
  {
   "cell_type": "code",
   "execution_count": 3,
   "metadata": {},
   "outputs": [
    {
     "data": {
      "text/plain": [
       "https://truepundit.com/ukraine-donated-the-most-cash-of-any-country-to-the-clinton-foundation/    86\n",
       "https://www.lifezette.com/2019/10/ukraine-cash-clinton-foundation/                                60\n",
       "https://www.waynedupree.com/clinton-foundation-ukraine/                                           13\n",
       "Name: expanded_url, dtype: int64"
      ]
     },
     "execution_count": 3,
     "metadata": {},
     "output_type": "execute_result"
    }
   ],
   "source": [
    "files = os.listdir('/Users/dankoban/Documents/fe_workflow_data/primary_tweets/')\n",
    "files = [file for file in files if '.json' in file]\n",
    "\n",
    "primary_tweets = []\n",
    "for file in files:\n",
    "    # JSON file    \n",
    "    f = open ('/Users/dankoban/Documents/fe_workflow_data/primary_tweets/' + file, \"r\")\n",
    "  \n",
    "    # Reading from file\n",
    "    data = json.loads(f.read())    \n",
    "    tweet_df = pd.json_normalize(data)\n",
    "    try:\n",
    "        tweet_df['in_reply_to_user_id'] = tweet_df['in_reply_to_user_id'] \n",
    "    except:\n",
    "        tweet_df['in_reply_to_user_id'] = None\n",
    "    try:\n",
    "        tweet_df['referenced_tweets_type'] = data['referenced_tweets'][0]['type']\n",
    "        tweet_df['referenced_tweets_id'] = data['referenced_tweets'][0]['id']\n",
    "    except:\n",
    "        tweet_df['referenced_tweets_type'] = None\n",
    "        tweet_df['referenced_tweets_id'] = None\n",
    "    try:\n",
    "        tweet_df['expanded_url'] = data['entities']['urls'][0]['expanded_url']\n",
    "    except:\n",
    "        tweet_df['expanded_url'] = None\n",
    "    try: \n",
    "        tweet_df['source'] = data['source']\n",
    "    except:\n",
    "        tweet_df['source'] = None\n",
    "    tweet_df = tweet_df[['author_id','id','conversation_id','text','lang',\n",
    "                         'public_metrics.retweet_count',\n",
    "                         'public_metrics.reply_count',\n",
    "                         'public_metrics.like_count',\n",
    "                         'public_metrics.quote_count',\n",
    "                         'referenced_tweets_type','referenced_tweets_id',\n",
    "                         'in_reply_to_user_id', 'expanded_url', 'source']]\n",
    "    primary_tweets.append(tweet_df)\n",
    "\n",
    "primary_tweets = pd.concat(primary_tweets).reset_index(drop=True)\n",
    "#primary_tweets = primary_tweets[primary_tweets['expanded_url'].isin(['https://www.lifezette.com/2019/10/ukrainians-cash-clinton-foundation/',\n",
    "#                                                                      'https://www.lifezette.com/2019/10/ukraine-cash-clinton-foundation/',\n",
    "#                                                                      'https://www.lifezette.com/2019/10/ukrainians-cash-clinton-foundation/#gf_2'])]\n",
    "primary_tweets.reset_index(inplace = True, drop = True)\n",
    "primary_tweets['expanded_url'].value_counts().head(3)"
   ]
  },
  {
   "cell_type": "markdown",
   "metadata": {},
   "source": [
    "Identify who shared these articles"
   ]
  },
  {
   "cell_type": "code",
   "execution_count": 4,
   "metadata": {},
   "outputs": [
    {
     "name": "stdout",
     "output_type": "stream",
     "text": [
      "201 tweets were posted by 175 users\n"
     ]
    }
   ],
   "source": [
    "authors = primary_tweets['author_id'].unique().tolist()\n",
    "status_ids = primary_tweets['id'].unique().tolist()\n",
    "print(str(len(status_ids)) + \" tweets were posted by \" + str(len(authors)) + \" users\")"
   ]
  },
  {
   "cell_type": "markdown",
   "metadata": {},
   "source": [
    "## 2. Programmatically follow accounts to generate followers via follow-backs"
   ]
  },
  {
   "cell_type": "code",
   "execution_count": 5,
   "metadata": {},
   "outputs": [
    {
     "data": {
      "text/plain": [
       "Response(data=[<User id=3039220281 name=Dan Koban username=kobo6992>], includes={}, errors=[], meta={'result_count': 1})"
      ]
     },
     "execution_count": 5,
     "metadata": {},
     "output_type": "execute_result"
    }
   ],
   "source": [
    "Client.get_users_following(id = '1397202218156167168')"
   ]
  },
  {
   "cell_type": "code",
   "execution_count": 6,
   "metadata": {},
   "outputs": [
    {
     "data": {
      "text/plain": [
       "Response(data=[<User id=3039220281 name=Dan Koban username=kobo6992>], includes={}, errors=[], meta={'result_count': 1})"
      ]
     },
     "execution_count": 6,
     "metadata": {},
     "output_type": "execute_result"
    }
   ],
   "source": [
    "Client.follow('3039220281')\n",
    "Client.get_users_following(id = '1397202218156167168')"
   ]
  },
  {
   "cell_type": "code",
   "execution_count": null,
   "metadata": {},
   "outputs": [],
   "source": [
    "#Client.unfollow('3039220281')\n",
    "#Client.get_users_following(id = '1397202218156167168')"
   ]
  },
  {
   "cell_type": "markdown",
   "metadata": {},
   "source": [
    "## 3. Collect social network and profile information about individual users"
   ]
  },
  {
   "cell_type": "code",
   "execution_count": null,
   "metadata": {},
   "outputs": [],
   "source": [
    "#Client.get_users_following('3039220281')\n",
    "#Client.get_users_tweets('3039220281')"
   ]
  },
  {
   "cell_type": "markdown",
   "metadata": {},
   "source": [
    "## 4. Programmatically message users to rate the accuracy of a headline"
   ]
  },
  {
   "cell_type": "code",
   "execution_count": 7,
   "metadata": {},
   "outputs": [],
   "source": [
    "# authorization of consumer key and consumer secret\n",
    "auth = tweepy.OAuthHandler(CONSUMER_KEY, CONSUMER_SECRET)\n",
    "\n",
    "# set access to user's access key and access secret \n",
    "auth.set_access_token(ACCESS_KEY, ACCESS_SECRET)\n",
    "  \n",
    "# calling the api \n",
    "api = tweepy.API(auth)\n",
    "  \n",
    "# ID of the recipient\n",
    "recipient_id = '3039220281'\n",
    "  \n",
    "# text to be sent\n",
    "text = \"Hi, I'm a bot.  Can you rate the accuracy of this headline? Thanks : )\"\n",
    "  \n",
    "# sending the direct message\n",
    "direct_message = api.send_direct_message(recipient_id, text)"
   ]
  },
  {
   "cell_type": "markdown",
   "metadata": {},
   "source": [
    "## 5. Measure changes to posting activity of individual users"
   ]
  },
  {
   "cell_type": "code",
   "execution_count": null,
   "metadata": {},
   "outputs": [],
   "source": [
    "#Client.get_users_following('3039220281')\n",
    "#Client.get_users_tweets('3039220281')"
   ]
  }
 ],
 "metadata": {
  "kernelspec": {
   "display_name": "Python 3",
   "language": "python",
   "name": "python3"
  },
  "language_info": {
   "codemirror_mode": {
    "name": "ipython",
    "version": 3
   },
   "file_extension": ".py",
   "mimetype": "text/x-python",
   "name": "python",
   "nbconvert_exporter": "python",
   "pygments_lexer": "ipython3",
   "version": "3.8.5"
  }
 },
 "nbformat": 4,
 "nbformat_minor": 4
}
