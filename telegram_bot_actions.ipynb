{
 "cells": [
  {
   "cell_type": "markdown",
   "metadata": {},
   "source": [
    "## Connect to client and view channel info"
   ]
  },
  {
   "cell_type": "code",
   "execution_count": 1,
   "metadata": {},
   "outputs": [],
   "source": [
    "from telethon import TelegramClient\n",
    "from telethon.tl.functions.channels import GetFullChannelRequest, JoinChannelRequest\n",
    "import configparser\n",
    "import pandas as pd\n",
    "\n",
    "# Setting config values\n",
    "config = configparser.ConfigParser()\n",
    "config.read(\"/Users/dankoban/Documents/Dissertation/config.ini\")\n",
    "api_id = config['telegram']['api_id']\n",
    "api_hash = config['telegram']['api_hash']\n",
    "phone = config['telegram']['phone']\n",
    "bot_token = config['telegram']['bot_token']"
   ]
  },
  {
   "cell_type": "code",
   "execution_count": 2,
   "metadata": {},
   "outputs": [
    {
     "name": "stdout",
     "output_type": "stream",
     "text": [
      "enter code: 48819\n"
     ]
    },
    {
     "data": {
      "text/plain": [
       "[<telethon.tl.types.User object at 0x7fba5834ed90>, <telethon.tl.types.User object at 0x7fba5834e5b0>, <telethon.tl.types.User object at 0x7fba5834eb20>, total=3]"
      ]
     },
     "execution_count": 2,
     "metadata": {},
     "output_type": "execute_result"
    }
   ],
   "source": [
    "client = TelegramClient('user', api_id, api_hash)\n",
    "await client.connect()\n",
    "await client.send_code_request(f\"+{phone2}\", force_sms=True)\n",
    "code = input('enter code: ')\n",
    "await client.sign_in(phone, code)\n",
    "await client.get_participants('https://t.me/learningtelegram2')"
   ]
  },
  {
   "cell_type": "code",
   "execution_count": 3,
   "metadata": {},
   "outputs": [
    {
     "data": {
      "text/html": [
       "<div>\n",
       "<style scoped>\n",
       "    .dataframe tbody tr th:only-of-type {\n",
       "        vertical-align: middle;\n",
       "    }\n",
       "\n",
       "    .dataframe tbody tr th {\n",
       "        vertical-align: top;\n",
       "    }\n",
       "\n",
       "    .dataframe thead th {\n",
       "        text-align: right;\n",
       "    }\n",
       "</style>\n",
       "<table border=\"1\" class=\"dataframe\">\n",
       "  <thead>\n",
       "    <tr style=\"text-align: right;\">\n",
       "      <th></th>\n",
       "      <th>full_chat.id</th>\n",
       "      <th>title</th>\n",
       "      <th>full_chat.about</th>\n",
       "      <th>full_chat.can_view_participants</th>\n",
       "      <th>full_chat.participants_count</th>\n",
       "    </tr>\n",
       "  </thead>\n",
       "  <tbody>\n",
       "    <tr>\n",
       "      <th>0</th>\n",
       "      <td>1543257888</td>\n",
       "      <td>Learning Telegram channel</td>\n",
       "      <td>Learning how to use Telegram with Python</td>\n",
       "      <td>True</td>\n",
       "      <td>3</td>\n",
       "    </tr>\n",
       "  </tbody>\n",
       "</table>\n",
       "</div>"
      ],
      "text/plain": [
       "   full_chat.id                      title  \\\n",
       "0    1543257888  Learning Telegram channel   \n",
       "\n",
       "                            full_chat.about  full_chat.can_view_participants  \\\n",
       "0  Learning how to use Telegram with Python                             True   \n",
       "\n",
       "   full_chat.participants_count  \n",
       "0                             3  "
      ]
     },
     "execution_count": 3,
     "metadata": {},
     "output_type": "execute_result"
    }
   ],
   "source": [
    "r = await client(GetFullChannelRequest(channel='https://t.me/learningtelegram2'))\n",
    "ch_full = pd.json_normalize(r.to_dict())    \n",
    "ch_full['title'] = pd.json_normalize(r.to_dict())['chats'][0][0]['title']\n",
    "ch_full = ch_full[['full_chat.id', \n",
    "                   'title',                       \n",
    "                   'full_chat.about', \n",
    "                   'full_chat.can_view_participants', \n",
    "                   'full_chat.participants_count']]\n",
    "ch_full"
   ]
  },
  {
   "cell_type": "code",
   "execution_count": 4,
   "metadata": {},
   "outputs": [
    {
     "data": {
      "text/html": [
       "<div>\n",
       "<style scoped>\n",
       "    .dataframe tbody tr th:only-of-type {\n",
       "        vertical-align: middle;\n",
       "    }\n",
       "\n",
       "    .dataframe tbody tr th {\n",
       "        vertical-align: top;\n",
       "    }\n",
       "\n",
       "    .dataframe thead th {\n",
       "        text-align: right;\n",
       "    }\n",
       "</style>\n",
       "<table border=\"1\" class=\"dataframe\">\n",
       "  <thead>\n",
       "    <tr style=\"text-align: right;\">\n",
       "      <th></th>\n",
       "      <th>id</th>\n",
       "      <th>username</th>\n",
       "      <th>bot</th>\n",
       "      <th>first_name</th>\n",
       "      <th>last_name</th>\n",
       "    </tr>\n",
       "  </thead>\n",
       "  <tbody>\n",
       "    <tr>\n",
       "      <th>0</th>\n",
       "      <td>1889625564</td>\n",
       "      <td>RandomPerson4</td>\n",
       "      <td>False</td>\n",
       "      <td>Random</td>\n",
       "      <td>Person</td>\n",
       "    </tr>\n",
       "    <tr>\n",
       "      <th>1</th>\n",
       "      <td>1790813816</td>\n",
       "      <td>survey_014014014_bot</td>\n",
       "      <td>True</td>\n",
       "      <td>survey_bot_14</td>\n",
       "      <td>None</td>\n",
       "    </tr>\n",
       "    <tr>\n",
       "      <th>2</th>\n",
       "      <td>1818726722</td>\n",
       "      <td>RandomPerson5</td>\n",
       "      <td>False</td>\n",
       "      <td>Random</td>\n",
       "      <td>Person5</td>\n",
       "    </tr>\n",
       "  </tbody>\n",
       "</table>\n",
       "</div>"
      ],
      "text/plain": [
       "           id              username    bot     first_name last_name\n",
       "0  1889625564         RandomPerson4  False         Random    Person\n",
       "1  1790813816  survey_014014014_bot   True  survey_bot_14      None\n",
       "2  1818726722         RandomPerson5  False         Random   Person5"
      ]
     },
     "execution_count": 4,
     "metadata": {},
     "output_type": "execute_result"
    }
   ],
   "source": [
    "members = await client.get_participants('https://t.me/learningtelegram2')\n",
    "member_list = []\n",
    "for i in range(0, len(members)):\n",
    "    try:\n",
    "        member_list.append(pd.DataFrame({'id': [members[i].to_dict()['id']],\n",
    "                                         'username': [members[i].to_dict()['username']],\n",
    "                                         'bot': [members[i].to_dict()['bot']],\n",
    "                                         'first_name': [members[i].to_dict()['first_name']],\n",
    "                                         'last_name': [members[i].to_dict()['last_name']]}))\n",
    "    except:\n",
    "        pass\n",
    "member_df = pd.concat(member_list)\n",
    "member_df.reset_index(inplace = True, drop = True)\n",
    "member_df"
   ]
  },
  {
   "cell_type": "markdown",
   "metadata": {},
   "source": [
    "## Send a message via API"
   ]
  },
  {
   "cell_type": "code",
   "execution_count": 8,
   "metadata": {},
   "outputs": [
    {
     "data": {
      "text/plain": [
       "<telethon.tl.patched.Message at 0x7fba681767f0>"
      ]
     },
     "execution_count": 8,
     "metadata": {},
     "output_type": "execute_result"
    }
   ],
   "source": [
    "await client.send_message('https://t.me/learningtelegram2', 'I sent the google webpage via Python telethon https://www.google.com/')"
   ]
  },
  {
   "cell_type": "code",
   "execution_count": 10,
   "metadata": {},
   "outputs": [
    {
     "name": "stdout",
     "output_type": "stream",
     "text": [
      "Message(id=58, peer_id=PeerChannel(channel_id=1543257888), date=datetime.datetime(2021, 8, 23, 14, 30, 31, tzinfo=datetime.timezone.utc), message='I sent the google webpage via Python telethon https://www.google.com/', out=True, mentioned=False, media_unread=False, silent=False, post=True, from_scheduled=False, legacy=False, edit_hide=False, pinned=False, from_id=None, fwd_from=None, via_bot_id=None, reply_to=None, media=None, reply_markup=None, entities=[MessageEntityUrl(offset=46, length=23)], views=2, forwards=0, replies=MessageReplies(replies=0, replies_pts=140, comments=True, recent_repliers=[], channel_id=1507922499, max_id=None, read_max_id=None), edit_date=None, post_author='Random Person5', grouped_id=None, restriction_reason=[], ttl_period=None)\n"
     ]
    }
   ],
   "source": [
    "chats = await client.get_messages('https://t.me/learningtelegram2', None)\n",
    "print(chats[0])"
   ]
  },
  {
   "cell_type": "code",
   "execution_count": 11,
   "metadata": {},
   "outputs": [
    {
     "data": {
      "text/plain": [
       "<telethon.tl.patched.Message at 0x7fba49f591c0>"
      ]
     },
     "execution_count": 11,
     "metadata": {},
     "output_type": "execute_result"
    }
   ],
   "source": [
    "chats = await client.get_messages('https://t.me/learningtelegram2', None)\n",
    "await chats[0].reply(\"and posted a follow on comment\")"
   ]
  },
  {
   "cell_type": "code",
   "execution_count": 12,
   "metadata": {},
   "outputs": [],
   "source": [
    "bot_client = TelegramClient('bot', api_id, api_hash)\n",
    "await bot_client.start(bot_token = bot_token)\n",
    "await bot_client.connect()"
   ]
  },
  {
   "cell_type": "code",
   "execution_count": 13,
   "metadata": {},
   "outputs": [
    {
     "ename": "BotMethodInvalidError",
     "evalue": "The API access for bot users is restricted. The method you tried to invoke cannot be executed as a bot (caused by GetHistoryRequest)",
     "output_type": "error",
     "traceback": [
      "\u001b[0;31m---------------------------------------------------------------------------\u001b[0m",
      "\u001b[0;31mBotMethodInvalidError\u001b[0m                     Traceback (most recent call last)",
      "\u001b[0;32m<ipython-input-13-e94182de5fe2>\u001b[0m in \u001b[0;36m<module>\u001b[0;34m\u001b[0m\n\u001b[0;32m----> 1\u001b[0;31m \u001b[0mchats\u001b[0m \u001b[0;34m=\u001b[0m \u001b[0;32mawait\u001b[0m \u001b[0mbot_client\u001b[0m\u001b[0;34m.\u001b[0m\u001b[0mget_messages\u001b[0m\u001b[0;34m(\u001b[0m\u001b[0;34m'https://t.me/learningtelegram2'\u001b[0m\u001b[0;34m,\u001b[0m \u001b[0;32mNone\u001b[0m\u001b[0;34m)\u001b[0m\u001b[0;34m\u001b[0m\u001b[0;34m\u001b[0m\u001b[0m\n\u001b[0m\u001b[1;32m      2\u001b[0m \u001b[0;32mawait\u001b[0m \u001b[0mchats\u001b[0m\u001b[0;34m[\u001b[0m\u001b[0;36m0\u001b[0m\u001b[0;34m]\u001b[0m\u001b[0;34m.\u001b[0m\u001b[0mreply\u001b[0m\u001b[0;34m(\u001b[0m\u001b[0;34m\"beep beep boop...I cannot post replies as a bot\"\u001b[0m\u001b[0;34m)\u001b[0m\u001b[0;34m\u001b[0m\u001b[0;34m\u001b[0m\u001b[0m\n",
      "\u001b[0;32m~/opt/anaconda3/lib/python3.8/site-packages/telethon/client/messages.py\u001b[0m in \u001b[0;36mget_messages\u001b[0;34m(self, *args, **kwargs)\u001b[0m\n\u001b[1;32m    572\u001b[0m                 \u001b[0;32mreturn\u001b[0m \u001b[0;32mNone\u001b[0m\u001b[0;34m\u001b[0m\u001b[0;34m\u001b[0m\u001b[0m\n\u001b[1;32m    573\u001b[0m \u001b[0;34m\u001b[0m\u001b[0m\n\u001b[0;32m--> 574\u001b[0;31m         \u001b[0;32mreturn\u001b[0m \u001b[0;32mawait\u001b[0m \u001b[0mit\u001b[0m\u001b[0;34m.\u001b[0m\u001b[0mcollect\u001b[0m\u001b[0;34m(\u001b[0m\u001b[0;34m)\u001b[0m\u001b[0;34m\u001b[0m\u001b[0;34m\u001b[0m\u001b[0m\n\u001b[0m\u001b[1;32m    575\u001b[0m \u001b[0;34m\u001b[0m\u001b[0m\n\u001b[1;32m    576\u001b[0m     \u001b[0mget_messages\u001b[0m\u001b[0;34m.\u001b[0m\u001b[0m__signature__\u001b[0m \u001b[0;34m=\u001b[0m \u001b[0minspect\u001b[0m\u001b[0;34m.\u001b[0m\u001b[0msignature\u001b[0m\u001b[0;34m(\u001b[0m\u001b[0miter_messages\u001b[0m\u001b[0;34m)\u001b[0m\u001b[0;34m\u001b[0m\u001b[0;34m\u001b[0m\u001b[0m\n",
      "\u001b[0;32m~/opt/anaconda3/lib/python3.8/site-packages/telethon/requestiter.py\u001b[0m in \u001b[0;36mcollect\u001b[0;34m(self)\u001b[0m\n\u001b[1;32m    111\u001b[0m         \"\"\"\n\u001b[1;32m    112\u001b[0m         \u001b[0mresult\u001b[0m \u001b[0;34m=\u001b[0m \u001b[0mhelpers\u001b[0m\u001b[0;34m.\u001b[0m\u001b[0mTotalList\u001b[0m\u001b[0;34m(\u001b[0m\u001b[0;34m)\u001b[0m\u001b[0;34m\u001b[0m\u001b[0;34m\u001b[0m\u001b[0m\n\u001b[0;32m--> 113\u001b[0;31m         \u001b[0;32masync\u001b[0m \u001b[0;32mfor\u001b[0m \u001b[0mmessage\u001b[0m \u001b[0;32min\u001b[0m \u001b[0mself\u001b[0m\u001b[0;34m:\u001b[0m\u001b[0;34m\u001b[0m\u001b[0;34m\u001b[0m\u001b[0m\n\u001b[0m\u001b[1;32m    114\u001b[0m             \u001b[0mresult\u001b[0m\u001b[0;34m.\u001b[0m\u001b[0mappend\u001b[0m\u001b[0;34m(\u001b[0m\u001b[0mmessage\u001b[0m\u001b[0;34m)\u001b[0m\u001b[0;34m\u001b[0m\u001b[0;34m\u001b[0m\u001b[0m\n\u001b[1;32m    115\u001b[0m \u001b[0;34m\u001b[0m\u001b[0m\n",
      "\u001b[0;32m~/opt/anaconda3/lib/python3.8/site-packages/telethon/requestiter.py\u001b[0m in \u001b[0;36m__anext__\u001b[0;34m(self)\u001b[0m\n\u001b[1;32m     72\u001b[0m             \u001b[0mself\u001b[0m\u001b[0;34m.\u001b[0m\u001b[0mindex\u001b[0m \u001b[0;34m=\u001b[0m \u001b[0;36m0\u001b[0m\u001b[0;34m\u001b[0m\u001b[0;34m\u001b[0m\u001b[0m\n\u001b[1;32m     73\u001b[0m             \u001b[0mself\u001b[0m\u001b[0;34m.\u001b[0m\u001b[0mbuffer\u001b[0m \u001b[0;34m=\u001b[0m \u001b[0;34m[\u001b[0m\u001b[0;34m]\u001b[0m\u001b[0;34m\u001b[0m\u001b[0;34m\u001b[0m\u001b[0m\n\u001b[0;32m---> 74\u001b[0;31m             \u001b[0;32mif\u001b[0m \u001b[0;32mawait\u001b[0m \u001b[0mself\u001b[0m\u001b[0;34m.\u001b[0m\u001b[0m_load_next_chunk\u001b[0m\u001b[0;34m(\u001b[0m\u001b[0;34m)\u001b[0m\u001b[0;34m:\u001b[0m\u001b[0;34m\u001b[0m\u001b[0;34m\u001b[0m\u001b[0m\n\u001b[0m\u001b[1;32m     75\u001b[0m                 \u001b[0mself\u001b[0m\u001b[0;34m.\u001b[0m\u001b[0mleft\u001b[0m \u001b[0;34m=\u001b[0m \u001b[0mlen\u001b[0m\u001b[0;34m(\u001b[0m\u001b[0mself\u001b[0m\u001b[0;34m.\u001b[0m\u001b[0mbuffer\u001b[0m\u001b[0;34m)\u001b[0m\u001b[0;34m\u001b[0m\u001b[0;34m\u001b[0m\u001b[0m\n\u001b[1;32m     76\u001b[0m \u001b[0;34m\u001b[0m\u001b[0m\n",
      "\u001b[0;32m~/opt/anaconda3/lib/python3.8/site-packages/telethon/client/messages.py\u001b[0m in \u001b[0;36m_load_next_chunk\u001b[0;34m(self)\u001b[0m\n\u001b[1;32m    176\u001b[0m             \u001b[0mself\u001b[0m\u001b[0;34m.\u001b[0m\u001b[0mrequest\u001b[0m\u001b[0;34m.\u001b[0m\u001b[0madd_offset\u001b[0m \u001b[0;34m=\u001b[0m \u001b[0mself\u001b[0m\u001b[0;34m.\u001b[0m\u001b[0madd_offset\u001b[0m \u001b[0;34m-\u001b[0m \u001b[0mself\u001b[0m\u001b[0;34m.\u001b[0m\u001b[0mrequest\u001b[0m\u001b[0;34m.\u001b[0m\u001b[0mlimit\u001b[0m\u001b[0;34m\u001b[0m\u001b[0;34m\u001b[0m\u001b[0m\n\u001b[1;32m    177\u001b[0m \u001b[0;34m\u001b[0m\u001b[0m\n\u001b[0;32m--> 178\u001b[0;31m         \u001b[0mr\u001b[0m \u001b[0;34m=\u001b[0m \u001b[0;32mawait\u001b[0m \u001b[0mself\u001b[0m\u001b[0;34m.\u001b[0m\u001b[0mclient\u001b[0m\u001b[0;34m(\u001b[0m\u001b[0mself\u001b[0m\u001b[0;34m.\u001b[0m\u001b[0mrequest\u001b[0m\u001b[0;34m)\u001b[0m\u001b[0;34m\u001b[0m\u001b[0;34m\u001b[0m\u001b[0m\n\u001b[0m\u001b[1;32m    179\u001b[0m         \u001b[0mself\u001b[0m\u001b[0;34m.\u001b[0m\u001b[0mtotal\u001b[0m \u001b[0;34m=\u001b[0m \u001b[0mgetattr\u001b[0m\u001b[0;34m(\u001b[0m\u001b[0mr\u001b[0m\u001b[0;34m,\u001b[0m \u001b[0;34m'count'\u001b[0m\u001b[0;34m,\u001b[0m \u001b[0mlen\u001b[0m\u001b[0;34m(\u001b[0m\u001b[0mr\u001b[0m\u001b[0;34m.\u001b[0m\u001b[0mmessages\u001b[0m\u001b[0;34m)\u001b[0m\u001b[0;34m)\u001b[0m\u001b[0;34m\u001b[0m\u001b[0;34m\u001b[0m\u001b[0m\n\u001b[1;32m    180\u001b[0m \u001b[0;34m\u001b[0m\u001b[0m\n",
      "\u001b[0;32m~/opt/anaconda3/lib/python3.8/site-packages/telethon/client/users.py\u001b[0m in \u001b[0;36m__call__\u001b[0;34m(self, request, ordered)\u001b[0m\n\u001b[1;32m     28\u001b[0m \u001b[0;32mclass\u001b[0m \u001b[0mUserMethods\u001b[0m\u001b[0;34m:\u001b[0m\u001b[0;34m\u001b[0m\u001b[0;34m\u001b[0m\u001b[0m\n\u001b[1;32m     29\u001b[0m     \u001b[0;32masync\u001b[0m \u001b[0;32mdef\u001b[0m \u001b[0m__call__\u001b[0m\u001b[0;34m(\u001b[0m\u001b[0mself\u001b[0m\u001b[0;34m:\u001b[0m \u001b[0;34m'TelegramClient'\u001b[0m\u001b[0;34m,\u001b[0m \u001b[0mrequest\u001b[0m\u001b[0;34m,\u001b[0m \u001b[0mordered\u001b[0m\u001b[0;34m=\u001b[0m\u001b[0;32mFalse\u001b[0m\u001b[0;34m)\u001b[0m\u001b[0;34m:\u001b[0m\u001b[0;34m\u001b[0m\u001b[0;34m\u001b[0m\u001b[0m\n\u001b[0;32m---> 30\u001b[0;31m         \u001b[0;32mreturn\u001b[0m \u001b[0;32mawait\u001b[0m \u001b[0mself\u001b[0m\u001b[0;34m.\u001b[0m\u001b[0m_call\u001b[0m\u001b[0;34m(\u001b[0m\u001b[0mself\u001b[0m\u001b[0;34m.\u001b[0m\u001b[0m_sender\u001b[0m\u001b[0;34m,\u001b[0m \u001b[0mrequest\u001b[0m\u001b[0;34m,\u001b[0m \u001b[0mordered\u001b[0m\u001b[0;34m=\u001b[0m\u001b[0mordered\u001b[0m\u001b[0;34m)\u001b[0m\u001b[0;34m\u001b[0m\u001b[0;34m\u001b[0m\u001b[0m\n\u001b[0m\u001b[1;32m     31\u001b[0m \u001b[0;34m\u001b[0m\u001b[0m\n\u001b[1;32m     32\u001b[0m     \u001b[0;32masync\u001b[0m \u001b[0;32mdef\u001b[0m \u001b[0m_call\u001b[0m\u001b[0;34m(\u001b[0m\u001b[0mself\u001b[0m\u001b[0;34m:\u001b[0m \u001b[0;34m'TelegramClient'\u001b[0m\u001b[0;34m,\u001b[0m \u001b[0msender\u001b[0m\u001b[0;34m,\u001b[0m \u001b[0mrequest\u001b[0m\u001b[0;34m,\u001b[0m \u001b[0mordered\u001b[0m\u001b[0;34m=\u001b[0m\u001b[0;32mFalse\u001b[0m\u001b[0;34m)\u001b[0m\u001b[0;34m:\u001b[0m\u001b[0;34m\u001b[0m\u001b[0;34m\u001b[0m\u001b[0m\n",
      "\u001b[0;32m~/opt/anaconda3/lib/python3.8/site-packages/telethon/client/users.py\u001b[0m in \u001b[0;36m_call\u001b[0;34m(self, sender, request, ordered)\u001b[0m\n\u001b[1;32m     77\u001b[0m                         \u001b[0;32mreturn\u001b[0m \u001b[0mresults\u001b[0m\u001b[0;34m\u001b[0m\u001b[0;34m\u001b[0m\u001b[0m\n\u001b[1;32m     78\u001b[0m                 \u001b[0;32melse\u001b[0m\u001b[0;34m:\u001b[0m\u001b[0;34m\u001b[0m\u001b[0;34m\u001b[0m\u001b[0m\n\u001b[0;32m---> 79\u001b[0;31m                     \u001b[0mresult\u001b[0m \u001b[0;34m=\u001b[0m \u001b[0;32mawait\u001b[0m \u001b[0mfuture\u001b[0m\u001b[0;34m\u001b[0m\u001b[0;34m\u001b[0m\u001b[0m\n\u001b[0m\u001b[1;32m     80\u001b[0m                     \u001b[0mself\u001b[0m\u001b[0;34m.\u001b[0m\u001b[0msession\u001b[0m\u001b[0;34m.\u001b[0m\u001b[0mprocess_entities\u001b[0m\u001b[0;34m(\u001b[0m\u001b[0mresult\u001b[0m\u001b[0;34m)\u001b[0m\u001b[0;34m\u001b[0m\u001b[0;34m\u001b[0m\u001b[0m\n\u001b[1;32m     81\u001b[0m                     \u001b[0mself\u001b[0m\u001b[0;34m.\u001b[0m\u001b[0m_entity_cache\u001b[0m\u001b[0;34m.\u001b[0m\u001b[0madd\u001b[0m\u001b[0;34m(\u001b[0m\u001b[0mresult\u001b[0m\u001b[0;34m)\u001b[0m\u001b[0;34m\u001b[0m\u001b[0;34m\u001b[0m\u001b[0m\n",
      "\u001b[0;31mBotMethodInvalidError\u001b[0m: The API access for bot users is restricted. The method you tried to invoke cannot be executed as a bot (caused by GetHistoryRequest)"
     ]
    }
   ],
   "source": [
    "chats = await bot_client.get_messages('https://t.me/learningtelegram2', None)\n",
    "await chats[0].reply(\"beep beep boop...I cannot post replies as a bot\")"
   ]
  },
  {
   "cell_type": "code",
   "execution_count": 14,
   "metadata": {
    "scrolled": true
   },
   "outputs": [
    {
     "data": {
      "text/plain": [
       "<telethon.tl.patched.Message at 0x7fba49f5bdc0>"
      ]
     },
     "execution_count": 14,
     "metadata": {},
     "output_type": "execute_result"
    }
   ],
   "source": [
    "await bot_client.send_message('https://t.me/learningtelegram2', 'Beep Beep Boop...I am a bot')"
   ]
  },
  {
   "cell_type": "code",
   "execution_count": 17,
   "metadata": {},
   "outputs": [
    {
     "data": {
      "text/plain": [
       "<telethon.tl.patched.Message at 0x7fba49fdd580>"
      ]
     },
     "execution_count": 17,
     "metadata": {},
     "output_type": "execute_result"
    }
   ],
   "source": [
    "await bot_client.send_message(entity = 'https://t.me/learningtelegram2', \n",
    "                              message = 'replying from bot',\n",
    "                              reply_to = 58)\n",
    "\n",
    "#await bot_client.send_message(entity = 'https://t.me/learningtelegram2', \n",
    "#                              message = 'commenting on a post from bot',\n",
    "#                              comment_to = 58)"
   ]
  },
  {
   "cell_type": "code",
   "execution_count": 26,
   "metadata": {},
   "outputs": [],
   "source": [
    "import asyncio\n",
    "from telethon import events\n",
    "\n",
    "@bot_client.on(events.NewMessage(pattern='(?i)hello.+'))\n",
    "async def handler(event):\n",
    "    # Respond whenever someone says \"Hello\" and something else\n",
    "    await event.reply('Hey!')\n",
    "\n",
    "@bot_client.on(events.NewMessage(outgoing=True, pattern='!ping'))\n",
    "async def handler(event):\n",
    "    # Say \"!pong\" whenever you send \"!ping\", then delete both messages\n",
    "    #m = await event.respond('!pong')\n",
    "    m = await event.reply('!pong')\n",
    "    #await asyncio.sleep(5)\n",
    "    #await client.delete_messages(event.chat_id, [event.id, m.id])"
   ]
  },
  {
   "cell_type": "code",
   "execution_count": 20,
   "metadata": {},
   "outputs": [
    {
     "name": "stdout",
     "output_type": "stream",
     "text": [
      "Message(id=60, peer_id=PeerChannel(channel_id=1543257888), date=datetime.datetime(2021, 8, 23, 14, 32, 2, tzinfo=datetime.timezone.utc), message='Beep Beep Boop...I am a bot', out=False, mentioned=False, media_unread=False, silent=False, post=True, from_scheduled=False, legacy=False, edit_hide=False, pinned=False, from_id=None, fwd_from=None, via_bot_id=None, reply_to=None, media=None, reply_markup=None, entities=[], views=2, forwards=0, replies=MessageReplies(replies=0, replies_pts=146, comments=True, recent_repliers=[], channel_id=1507922499, max_id=None, read_max_id=None), edit_date=None, post_author='survey_bot_14', grouped_id=None, restriction_reason=[], ttl_period=None)\n"
     ]
    }
   ],
   "source": [
    "chats = await client.get_messages('https://t.me/learningtelegram2', None)\n",
    "print(chats[1])"
   ]
  },
  {
   "cell_type": "code",
   "execution_count": 21,
   "metadata": {},
   "outputs": [
    {
     "data": {
      "text/plain": [
       "<telethon.tl.patched.Message at 0x7fba49fdd8e0>"
      ]
     },
     "execution_count": 21,
     "metadata": {},
     "output_type": "execute_result"
    }
   ],
   "source": [
    "await client.send_message(entity = 'https://t.me/learningtelegram2', \n",
    "                          message = 'hello bot',\n",
    "                          reply_to = 60)"
   ]
  },
  {
   "cell_type": "code",
   "execution_count": 22,
   "metadata": {},
   "outputs": [
    {
     "data": {
      "text/plain": [
       "<telethon.tl.patched.Message at 0x7fba49fddf10>"
      ]
     },
     "execution_count": 22,
     "metadata": {},
     "output_type": "execute_result"
    }
   ],
   "source": [
    "await client.send_message(entity = 'https://t.me/learningtelegram2', \n",
    "                          message = '!ping',\n",
    "                          reply_to = 60)"
   ]
  },
  {
   "cell_type": "code",
   "execution_count": 27,
   "metadata": {},
   "outputs": [
    {
     "data": {
      "text/plain": [
       "<telethon.tl.patched.Message at 0x7fba4a004880>"
      ]
     },
     "execution_count": 27,
     "metadata": {},
     "output_type": "execute_result"
    }
   ],
   "source": [
    "await client.send_message('https://t.me/learningtelegram2', '!ping')"
   ]
  },
  {
   "cell_type": "code",
   "execution_count": 28,
   "metadata": {},
   "outputs": [
    {
     "data": {
      "text/plain": [
       "<telethon.tl.patched.Message at 0x7fba49f59fa0>"
      ]
     },
     "execution_count": 28,
     "metadata": {},
     "output_type": "execute_result"
    }
   ],
   "source": [
    "await bot_client.send_message('https://t.me/learningtelegram2', '!ping')"
   ]
  },
  {
   "cell_type": "code",
   "execution_count": 25,
   "metadata": {},
   "outputs": [
    {
     "data": {
      "text/plain": [
       "<telethon.tl.patched.Message at 0x7fba491bd370>"
      ]
     },
     "execution_count": 25,
     "metadata": {},
     "output_type": "execute_result"
    }
   ],
   "source": [
    "await client.send_message('https://t.me/learningtelegram2', 'hello bot')"
   ]
  },
  {
   "cell_type": "markdown",
   "metadata": {},
   "source": [
    "## Query channel for comments"
   ]
  },
  {
   "cell_type": "code",
   "execution_count": 56,
   "metadata": {},
   "outputs": [
    {
     "data": {
      "text/html": [
       "<div>\n",
       "<style scoped>\n",
       "    .dataframe tbody tr th:only-of-type {\n",
       "        vertical-align: middle;\n",
       "    }\n",
       "\n",
       "    .dataframe tbody tr th {\n",
       "        vertical-align: top;\n",
       "    }\n",
       "\n",
       "    .dataframe thead th {\n",
       "        text-align: right;\n",
       "    }\n",
       "</style>\n",
       "<table border=\"1\" class=\"dataframe\">\n",
       "  <thead>\n",
       "    <tr style=\"text-align: right;\">\n",
       "      <th></th>\n",
       "      <th>full_chat.id</th>\n",
       "      <th>title</th>\n",
       "      <th>full_chat.about</th>\n",
       "      <th>full_chat.can_view_participants</th>\n",
       "      <th>full_chat.participants_count</th>\n",
       "    </tr>\n",
       "  </thead>\n",
       "  <tbody>\n",
       "    <tr>\n",
       "      <th>0</th>\n",
       "      <td>1459890679</td>\n",
       "      <td>Trump Supporters Channel 🇺🇸</td>\n",
       "      <td>Supporters of the greatest President of our li...</td>\n",
       "      <td>False</td>\n",
       "      <td>401054</td>\n",
       "    </tr>\n",
       "  </tbody>\n",
       "</table>\n",
       "</div>"
      ],
      "text/plain": [
       "   full_chat.id                        title  \\\n",
       "0    1459890679  Trump Supporters Channel 🇺🇸   \n",
       "\n",
       "                                     full_chat.about  \\\n",
       "0  Supporters of the greatest President of our li...   \n",
       "\n",
       "   full_chat.can_view_participants  full_chat.participants_count  \n",
       "0                            False                        401054  "
      ]
     },
     "execution_count": 56,
     "metadata": {},
     "output_type": "execute_result"
    }
   ],
   "source": [
    "r = await client(GetFullChannelRequest(channel='https://t.me/TrumpChannel'))\n",
    "ch_full = pd.json_normalize(r.to_dict())    \n",
    "ch_full['title'] = pd.json_normalize(r.to_dict())['chats'][0][0]['title']\n",
    "ch_full = ch_full[['full_chat.id', \n",
    "                   'title',                       \n",
    "                   'full_chat.about', \n",
    "                   'full_chat.can_view_participants', \n",
    "                   'full_chat.participants_count']]\n",
    "ch_full"
   ]
  },
  {
   "cell_type": "code",
   "execution_count": 58,
   "metadata": {},
   "outputs": [
    {
     "name": "stdout",
     "output_type": "stream",
     "text": [
      "message ID: 1989\n",
      "😳\n",
      "\n",
      "Via @WesternJournal\n",
      "comment count:182\n",
      "last replier: 1350480243\n"
     ]
    }
   ],
   "source": [
    "chats = await client.get_messages('https://t.me/TrumpChannel', 1)\n",
    "print(\"message ID: \" + str(chats[0].id))\n",
    "print(chats[0].message)\n",
    "print(\"comment count:\" + str(chats[0].replies.replies))\n",
    "print(\"last replier: \" + str(chats[0].replies.recent_repliers[0].to_dict()['user_id']))"
   ]
  },
  {
   "cell_type": "code",
   "execution_count": 61,
   "metadata": {},
   "outputs": [
    {
     "data": {
      "text/plain": [
       "{'_': 'Message',\n",
       " 'id': 820051,\n",
       " 'peer_id': {'_': 'PeerChannel', 'channel_id': 1332262008},\n",
       " 'date': datetime.datetime(2021, 8, 23, 14, 59, 32, tzinfo=datetime.timezone.utc),\n",
       " 'message': 'Trump did have a date to get our people home.\\nBut he HAD A PLAN!! Dumbass BIDEN, dismissed it because TRUMP HAD HIS OWN PLAN.\\nLike everything else good Trump did and promised us and delivered!!!!\\nIf some of you STILL DON’T SEE AND UNDERSTAND WHAT IS ACTUALLY GOING ON, then there is no help for you.',\n",
       " 'out': False,\n",
       " 'mentioned': False,\n",
       " 'media_unread': False,\n",
       " 'silent': False,\n",
       " 'post': False,\n",
       " 'from_scheduled': False,\n",
       " 'legacy': False,\n",
       " 'edit_hide': False,\n",
       " 'pinned': False,\n",
       " 'from_id': {'_': 'PeerUser', 'user_id': 1655364946},\n",
       " 'fwd_from': None,\n",
       " 'via_bot_id': None,\n",
       " 'reply_to': {'_': 'MessageReplyHeader',\n",
       "  'reply_to_msg_id': 819204,\n",
       "  'reply_to_peer_id': None,\n",
       "  'reply_to_top_id': None},\n",
       " 'media': None,\n",
       " 'reply_markup': None,\n",
       " 'entities': [],\n",
       " 'views': None,\n",
       " 'forwards': None,\n",
       " 'replies': None,\n",
       " 'edit_date': None,\n",
       " 'post_author': None,\n",
       " 'grouped_id': None,\n",
       " 'restriction_reason': [],\n",
       " 'ttl_period': None}"
      ]
     },
     "execution_count": 61,
     "metadata": {},
     "output_type": "execute_result"
    }
   ],
   "source": [
    "comments = await client.get_messages('https://t.me/TrumpChannel', 1, reply_to = chats[0].id)\n",
    "comments[0].to_dict()"
   ]
  },
  {
   "cell_type": "code",
   "execution_count": 62,
   "metadata": {},
   "outputs": [
    {
     "data": {
      "text/plain": [
       "True"
      ]
     },
     "execution_count": 62,
     "metadata": {},
     "output_type": "execute_result"
    }
   ],
   "source": [
    "await client.log_out()"
   ]
  },
  {
   "cell_type": "code",
   "execution_count": 63,
   "metadata": {},
   "outputs": [
    {
     "data": {
      "text/plain": [
       "True"
      ]
     },
     "execution_count": 63,
     "metadata": {},
     "output_type": "execute_result"
    }
   ],
   "source": [
    "await bot_client.log_out()"
   ]
  }
 ],
 "metadata": {
  "kernelspec": {
   "display_name": "Python 3",
   "language": "python",
   "name": "python3"
  },
  "language_info": {
   "codemirror_mode": {
    "name": "ipython",
    "version": 3
   },
   "file_extension": ".py",
   "mimetype": "text/x-python",
   "name": "python",
   "nbconvert_exporter": "python",
   "pygments_lexer": "ipython3",
   "version": "3.8.5"
  }
 },
 "nbformat": 4,
 "nbformat_minor": 4
}
