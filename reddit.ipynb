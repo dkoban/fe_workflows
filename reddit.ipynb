{
 "cells": [
  {
   "cell_type": "markdown",
   "metadata": {},
   "source": [
    "## BLUF:\n",
    "It is possible to replicate the accuracy prime experiment on Reddit, but shadow bans and user restrictions on direct messaging would make it difficult to interact with users.  Identifying users of interest and monitoring activity is easy; interacting with users is not. Automated accounts may need to generate karma to post on some reddits. Karma farming does not appear to be banned, but it often can result in accounts being banned.   \n",
    "\n",
    "### Task list:\n",
    "\n",
    "**1. Identify users who share article links from untrustworthy websites:** <br> PRAW allows for searching across all subreddits for specific URLs.  Author information is provided for each submission.  The Pushshift API also allows for large scale queries on specific subreddits.\n",
    "\n",
    "**2. Programmatically follow accounts to generate followers via follow-backs:** <br> The PRAW API allows us to friend other users, but not follow. Since users cannot see who is following them, prompting user follow-backs would not work. \n",
    "    \n",
    "**3. Collect social network and profile information about individual users:** <br> PRAW allows us to collect submissions and comments from specific users.  Follower relationships or subreddit membership information is not available.  Karma scores are available as a means to filter out highly active accounts.\n",
    "\n",
    "**4. Programmatically message users to rate the accuracy of a headline:** <br> API allows for direct messaging, but only for users who have open settings to receive DMs.  API appears to only work for some automated accounts, not all - I believe it might have to do with karma or account age. Because shadowbans are not obivious to the banned user, it would be difficult to determine if our accounts were banned. Since newly created accounts may also not be allow to post in certain subreddits, we would need to maintain active accounts to publicly reply to subreddits with strict rules.\n",
    "\n",
    "**5. Measure changes to posting activity of individual users:** <br> We can pull submissions and comments for specific users using PRAW."
   ]
  },
  {
   "cell_type": "markdown",
   "metadata": {},
   "source": [
    "## 1. Identify users who share article links from untrustworthy websites\n",
    "\n",
    "Search across all subreddits for specific domains using PRAW"
   ]
  },
  {
   "cell_type": "code",
   "execution_count": 1,
   "metadata": {},
   "outputs": [],
   "source": [
    "import praw\n",
    "import math\n",
    "import time\n",
    "from datetime import datetime, timedelta\n",
    "import pandas as pd\n",
    "from pushshift_py import PushshiftAPI\n",
    "import configparser\n",
    "import pandas as pd\n",
    "\n",
    "# Setting config values\n",
    "config = configparser.ConfigParser()\n",
    "config.read(\"/Users/dankoban/Documents/Dissertation/config.ini\")\n",
    "client_id = config['reddit']['client_id']\n",
    "client_secret = config['reddit']['client_secret']\n",
    "user_agent = config['reddit']['user_agent']\n",
    "password = config['reddit']['password']\n",
    "username = config['reddit']['username']\n",
    "\n",
    "reddit = praw.Reddit(\n",
    "    client_id=client_id,\n",
    "    client_secret=client_secret,\n",
    "    user_agent=user_agent,\n",
    "    username=username,\n",
    "    password=password\n",
    ")"
   ]
  },
  {
   "cell_type": "code",
   "execution_count": 2,
   "metadata": {},
   "outputs": [
    {
     "name": "stdout",
     "output_type": "stream",
     "text": [
      "p699ee Conservative nimobo Chinese Foreign Minister Lectures Antony Blinken on Afghanistan https://www.breitbart.com/asia/2021/08/17/chinese-foreign-minister-lectures-antony-blinken-on-afghanistan/\n",
      "p698zq walkaway pork26 Chuck Todd: Biden Has Lost His ‘High Marks’ in ‘Competency’ https://www.breitbart.com/clips/2021/08/17/chuck-todd-biden-has-lost-his-high-marks-in-competency/\n",
      "p693nw ExDemFoyer post-news Joe Biden Covertly Flies Migrants into New Yorkers' Jobs https://www.breitbart.com/politics/2021/08/17/biden-covertly-flies-migrants-into-new-york-jobs/\n",
      "p69159 Conservative nimobo NYC to Impose Up to $2,000 Fines on Businesses Serving the Unvaccinated https://www.breitbart.com/politics/2021/08/17/nyc-impose-up-2000-fines-businesses-serving-unvaccinated/\n",
      "p68oiz Conservative bathing_harambe Dunked: Disney Shutters NBA Experience Attraction Due to Dismal Sales https://www.breitbart.com/sports/2021/08/16/dunked-disney-shutters-nba-experience-attraction-due-dismal-sales/\n"
     ]
    }
   ],
   "source": [
    "for submission in reddit.subreddit('all').search('site:breitbart.com', sort = 'new', limit = 5, syntax='lucene'):\n",
    "    print(submission.id + \" \" + str(submission.subreddit) + \" \" + \n",
    "          str(submission.author) + \" \" + submission.title + \" \" + submission.url)"
   ]
  },
  {
   "cell_type": "markdown",
   "metadata": {},
   "source": [
    "Use Pushshift to collect posts and comments "
   ]
  },
  {
   "cell_type": "code",
   "execution_count": 3,
   "metadata": {},
   "outputs": [],
   "source": [
    "def get_intervals(start_at, number_of_hours_per_interval = 3):\n",
    "    end_at = math.ceil(datetime.utcnow().timestamp())   \n",
    "    period = (3600 * number_of_hours_per_interval)\n",
    "    end = start_at + period\n",
    "    yield (int(start_at), int(end))\n",
    "    padding = 1\n",
    "    while end <= end_at:\n",
    "        start_at = end + padding\n",
    "        end = (start_at - padding) + period\n",
    "        yield datetime.fromtimestamp(start_at), datetime.fromtimestamp(end)\n",
    "\n",
    "api = PushshiftAPI()"
   ]
  },
  {
   "cell_type": "markdown",
   "metadata": {},
   "source": [
    "Get all posts from a subreddit"
   ]
  },
  {
   "cell_type": "code",
   "execution_count": 4,
   "metadata": {},
   "outputs": [],
   "source": [
    "start_at=int(datetime(2021, 8, 15).timestamp())\n",
    "\n",
    "submission_df = []\n",
    "for interval in get_intervals(start_at, number_of_hours_per_interval = 3):\n",
    "    submissions = list(api.search_submissions(after=interval[0],\n",
    "                                              before=interval[1],\n",
    "                                              subreddit='politics',\n",
    "                                              filter=['id', 'url','author', 'title', 'subreddit', 'domain', \n",
    "                                                       'num_comments', 'created_utc', 'full_link'],\n",
    "                                              limit=100))\n",
    "    #print(len(submissions))        \n",
    "    for submission in submissions:\n",
    "        df = pd.DataFrame({'id': submission.id,\n",
    "                           'created_utc': datetime.fromtimestamp(submission.created_utc),                           \n",
    "                           'author': submission.author,\n",
    "                           'subreddit': submission.subreddit,\n",
    "                           'title': submission.title,\n",
    "                           'url': submission.url,\n",
    "                           'domain': submission.domain,\n",
    "                           'num_comments': submission.num_comments,\n",
    "                           'full_link': submission.full_link},\n",
    "                            index = [0])        \n",
    "        submission_df.append(df)\n",
    "    #time.sleep(.500)"
   ]
  },
  {
   "cell_type": "code",
   "execution_count": 5,
   "metadata": {},
   "outputs": [
    {
     "name": "stdout",
     "output_type": "stream",
     "text": [
      "1239\n"
     ]
    },
    {
     "data": {
      "text/html": [
       "<div>\n",
       "<style scoped>\n",
       "    .dataframe tbody tr th:only-of-type {\n",
       "        vertical-align: middle;\n",
       "    }\n",
       "\n",
       "    .dataframe tbody tr th {\n",
       "        vertical-align: top;\n",
       "    }\n",
       "\n",
       "    .dataframe thead th {\n",
       "        text-align: right;\n",
       "    }\n",
       "</style>\n",
       "<table border=\"1\" class=\"dataframe\">\n",
       "  <thead>\n",
       "    <tr style=\"text-align: right;\">\n",
       "      <th></th>\n",
       "      <th>id</th>\n",
       "      <th>created_date</th>\n",
       "      <th>subreddit</th>\n",
       "      <th>domain</th>\n",
       "      <th>num_comments</th>\n",
       "    </tr>\n",
       "  </thead>\n",
       "  <tbody>\n",
       "    <tr>\n",
       "      <th>0</th>\n",
       "      <td>p4mmx3</td>\n",
       "      <td>2021-08-15</td>\n",
       "      <td>politics</td>\n",
       "      <td>lawandcrime.com</td>\n",
       "      <td>426</td>\n",
       "    </tr>\n",
       "    <tr>\n",
       "      <th>1</th>\n",
       "      <td>p4mndz</td>\n",
       "      <td>2021-08-15</td>\n",
       "      <td>politics</td>\n",
       "      <td>reuters.com</td>\n",
       "      <td>9</td>\n",
       "    </tr>\n",
       "    <tr>\n",
       "      <th>2</th>\n",
       "      <td>p4muxa</td>\n",
       "      <td>2021-08-15</td>\n",
       "      <td>politics</td>\n",
       "      <td>bbc.com</td>\n",
       "      <td>61</td>\n",
       "    </tr>\n",
       "    <tr>\n",
       "      <th>3</th>\n",
       "      <td>p4nao0</td>\n",
       "      <td>2021-08-15</td>\n",
       "      <td>politics</td>\n",
       "      <td>businessinsider.com</td>\n",
       "      <td>183</td>\n",
       "    </tr>\n",
       "    <tr>\n",
       "      <th>4</th>\n",
       "      <td>p4ncxc</td>\n",
       "      <td>2021-08-15</td>\n",
       "      <td>politics</td>\n",
       "      <td>latimes.com</td>\n",
       "      <td>10</td>\n",
       "    </tr>\n",
       "  </tbody>\n",
       "</table>\n",
       "</div>"
      ],
      "text/plain": [
       "       id created_date subreddit               domain  num_comments\n",
       "0  p4mmx3   2021-08-15  politics      lawandcrime.com           426\n",
       "1  p4mndz   2021-08-15  politics          reuters.com             9\n",
       "2  p4muxa   2021-08-15  politics              bbc.com            61\n",
       "3  p4nao0   2021-08-15  politics  businessinsider.com           183\n",
       "4  p4ncxc   2021-08-15  politics          latimes.com            10"
      ]
     },
     "execution_count": 5,
     "metadata": {},
     "output_type": "execute_result"
    }
   ],
   "source": [
    "submission_df = pd.concat(submission_df)\n",
    "submission_df.reset_index(inplace = True, drop = True)\n",
    "submission_df['created_date'] = submission_df['created_utc'].apply(lambda x: x.date())\n",
    "print(len(submission_df))\n",
    "submission_df[['id', 'created_date', 'subreddit', 'domain', 'num_comments']].head()"
   ]
  },
  {
   "cell_type": "code",
   "execution_count": 6,
   "metadata": {},
   "outputs": [
    {
     "name": "stdout",
     "output_type": "stream",
     "text": [
      "first post: 2021-08-14 23:08:14\n",
      "last post: 2021-08-17 14:29:51\n"
     ]
    },
    {
     "data": {
      "image/png": "[encoded data removed]",
      "text/plain": [
       "<Figure size 1080x360 with 1 Axes>"
      ]
     },
     "metadata": {
      "needs_background": "light"
     },
     "output_type": "display_data"
    }
   ],
   "source": [
    "print(\"first post: \" + str(min(submission_df['created_utc'])))\n",
    "print(\"last post: \" + str(max(submission_df['created_utc'])))\n",
    "\n",
    "import matplotlib.dates as mdates\n",
    "import matplotlib.pylab as plt\n",
    "ax = submission_df[['created_date', 'id']].groupby('created_date').count().plot(kind='bar', figsize=(15,5),legend=None)\n",
    "#ax.xaxis.set_major_locator(mdates.MonthLocator(interval=1))\n",
    "plt.gcf().autofmt_xdate()"
   ]
  },
  {
   "cell_type": "markdown",
   "metadata": {},
   "source": [
    "Get comments on posts"
   ]
  },
  {
   "cell_type": "code",
   "execution_count": 7,
   "metadata": {},
   "outputs": [
    {
     "name": "stdout",
     "output_type": "stream",
     "text": [
      "id                                                   p4muxa\n",
      "author                                          _blue_heat_\n",
      "title     Afghanistan: What has the failed conflict cost...\n",
      "Name: 2, dtype: object\n",
      "https://www.reddit.com/r/politics/comments/p4muxa/afghanistan_what_has_the_failed_conflict_cost_the/\n"
     ]
    },
    {
     "data": {
      "text/html": [
       "<div>\n",
       "<style scoped>\n",
       "    .dataframe tbody tr th:only-of-type {\n",
       "        vertical-align: middle;\n",
       "    }\n",
       "\n",
       "    .dataframe tbody tr th {\n",
       "        vertical-align: top;\n",
       "    }\n",
       "\n",
       "    .dataframe thead th {\n",
       "        text-align: right;\n",
       "    }\n",
       "</style>\n",
       "<table border=\"1\" class=\"dataframe\">\n",
       "  <thead>\n",
       "    <tr style=\"text-align: right;\">\n",
       "      <th></th>\n",
       "      <th>id</th>\n",
       "      <th>body</th>\n",
       "      <th>created_date</th>\n",
       "    </tr>\n",
       "  </thead>\n",
       "  <tbody>\n",
       "    <tr>\n",
       "      <th>0</th>\n",
       "      <td>h97lmyz</td>\n",
       "      <td>It looks like she’s eating him</td>\n",
       "      <td>2021-08-16</td>\n",
       "    </tr>\n",
       "    <tr>\n",
       "      <th>1</th>\n",
       "      <td>h97lmz0</td>\n",
       "      <td>Wondering the same</td>\n",
       "      <td>2021-08-16</td>\n",
       "    </tr>\n",
       "    <tr>\n",
       "      <th>2</th>\n",
       "      <td>h97lmz1</td>\n",
       "      <td>[deleted]</td>\n",
       "      <td>2021-08-16</td>\n",
       "    </tr>\n",
       "    <tr>\n",
       "      <th>3</th>\n",
       "      <td>h97lmz2</td>\n",
       "      <td>Jus saying 🤤🤤🤤</td>\n",
       "      <td>2021-08-16</td>\n",
       "    </tr>\n",
       "    <tr>\n",
       "      <th>4</th>\n",
       "      <td>h97lmz3</td>\n",
       "      <td>Beep. Boop. I'm a robot.\\nHere's a copy of \\n\\...</td>\n",
       "      <td>2021-08-16</td>\n",
       "    </tr>\n",
       "    <tr>\n",
       "      <th>...</th>\n",
       "      <td>...</td>\n",
       "      <td>...</td>\n",
       "      <td>...</td>\n",
       "    </tr>\n",
       "    <tr>\n",
       "      <th>95</th>\n",
       "      <td>h97lmxo</td>\n",
       "      <td>Except it’s your standard. You’re promoting ch...</td>\n",
       "      <td>2021-08-16</td>\n",
       "    </tr>\n",
       "    <tr>\n",
       "      <th>96</th>\n",
       "      <td>h97lmxp</td>\n",
       "      <td>Remember once you find this place, you're here...</td>\n",
       "      <td>2021-08-16</td>\n",
       "    </tr>\n",
       "    <tr>\n",
       "      <th>97</th>\n",
       "      <td>h97lmxq</td>\n",
       "      <td>Normal</td>\n",
       "      <td>2021-08-16</td>\n",
       "    </tr>\n",
       "    <tr>\n",
       "      <th>98</th>\n",
       "      <td>h97lmxr</td>\n",
       "      <td>I love seeing this plant every time you post! ...</td>\n",
       "      <td>2021-08-16</td>\n",
       "    </tr>\n",
       "    <tr>\n",
       "      <th>99</th>\n",
       "      <td>h97lmxs</td>\n",
       "      <td>NTA - and it is illegal to use a parking badge...</td>\n",
       "      <td>2021-08-16</td>\n",
       "    </tr>\n",
       "  </tbody>\n",
       "</table>\n",
       "<p>100 rows × 3 columns</p>\n",
       "</div>"
      ],
      "text/plain": [
       "         id                                               body created_date\n",
       "0   h97lmyz                     It looks like she’s eating him   2021-08-16\n",
       "1   h97lmz0                                 Wondering the same   2021-08-16\n",
       "2   h97lmz1                                          [deleted]   2021-08-16\n",
       "3   h97lmz2                                     Jus saying 🤤🤤🤤   2021-08-16\n",
       "4   h97lmz3  Beep. Boop. I'm a robot.\\nHere's a copy of \\n\\...   2021-08-16\n",
       "..      ...                                                ...          ...\n",
       "95  h97lmxo  Except it’s your standard. You’re promoting ch...   2021-08-16\n",
       "96  h97lmxp  Remember once you find this place, you're here...   2021-08-16\n",
       "97  h97lmxq                                             Normal   2021-08-16\n",
       "98  h97lmxr  I love seeing this plant every time you post! ...   2021-08-16\n",
       "99  h97lmxs  NTA - and it is illegal to use a parking badge...   2021-08-16\n",
       "\n",
       "[100 rows x 3 columns]"
      ]
     },
     "execution_count": 7,
     "metadata": {},
     "output_type": "execute_result"
    }
   ],
   "source": [
    "idx = 2\n",
    "print(submission_df[['id', 'author', 'title']].iloc[idx])\n",
    "print(submission_df['full_link'].iloc[idx])\n",
    "comments = list(api.search_comments(id = submission_df['id'][idx], limit=100))\n",
    "comments_df = []\n",
    "for comment in comments:\n",
    "    comments_df.append(pd.DataFrame({'id': comment.id,\n",
    "                                     'author': comment.author,\n",
    "                                     'body': comment.body,\n",
    "                                     'created_utc': comment.created_utc},\n",
    "                                     index = [0]))\n",
    "comments_df = pd.concat(comments_df)\n",
    "comments_df['created_date'] = comments_df['created_utc'].apply(lambda x: datetime.fromtimestamp(x).date())\n",
    "comments_df.reset_index(inplace = True, drop = True)\n",
    "comments_df[['id', 'body', 'created_date']]"
   ]
  },
  {
   "cell_type": "markdown",
   "metadata": {},
   "source": [
    "## 2. Programmatically follow accounts to generate followers via follow-backs"
   ]
  },
  {
   "cell_type": "code",
   "execution_count": 8,
   "metadata": {},
   "outputs": [
    {
     "name": "stdout",
     "output_type": "stream",
     "text": [
      "Is friend after friending?: True\n",
      "Friend Name: amberlarsen1\n",
      "Comment Karma: 2\n",
      "Total Karma: 3\n",
      "\n",
      "Is friend after unfriending?: False\n"
     ]
    }
   ],
   "source": [
    "redditor = reddit.redditor(\"amberlarsen1\")\n",
    "\n",
    "redditor.friend()\n",
    "print(\"Is friend after friending?: \" + str(redditor.is_friend))\n",
    "friend_info = redditor.friend_info()\n",
    "print(\"Friend Name: \" + str(friend_info.name))\n",
    "print(\"Comment Karma: \" + str(friend_info.comment_karma))\n",
    "print(\"Total Karma: \" + str(friend_info.total_karma))\n",
    "\n",
    "redditor.unfriend()\n",
    "redditor = reddit.redditor(\"amberlarsen1\")\n",
    "print(\"\\nIs friend after unfriending?: \" + str(redditor.is_friend))"
   ]
  },
  {
   "cell_type": "markdown",
   "metadata": {},
   "source": [
    "## 3. Collect social network and profile information about individual users"
   ]
  },
  {
   "cell_type": "code",
   "execution_count": 22,
   "metadata": {},
   "outputs": [
    {
     "data": {
      "text/plain": [
       "'Reddit-Book-Bot'"
      ]
     },
     "execution_count": 22,
     "metadata": {},
     "output_type": "execute_result"
    }
   ],
   "source": [
    "author = comments_df['author'].tolist()[4]\n",
    "author"
   ]
  },
  {
   "cell_type": "code",
   "execution_count": 21,
   "metadata": {},
   "outputs": [
    {
     "name": "stdout",
     "output_type": "stream",
     "text": [
      "u_Reddit-Book-Bot: We're looking for volunteers to write author bios or produce and upload books! \n",
      "u_Reddit-Book-Bot: Reddit-Book-Bot V 2.0| Information | F.A.Q | How To Use\n",
      "u_Reddit-Book-Bot: Full List Of Books and Commands\n",
      "FreeKarma4U: I will upvote this every comment. Comment away.\n",
      "FreeKarma4U: Upvoting all comments! Please upvote mine too!\n",
      "FreeKarma4U: Hello! I'm a new bot that posts free books and I need upvotes to work!🤖\n"
     ]
    }
   ],
   "source": [
    "for submission in reddit.redditor(author).submissions.new(limit=10):\n",
    "    print(str(submission.subreddit) + \": \" + submission.title.split(\"\\n\", 1)[0][:79])"
   ]
  },
  {
   "cell_type": "code",
   "execution_count": 20,
   "metadata": {},
   "outputs": [
    {
     "name": "stdout",
     "output_type": "stream",
     "text": [
      "acnh: Beep. Boop. I'm a robot.\n",
      "CrazyFuckingVideos: Beep. Boop. I'm a robot.\n",
      "aaaaaaacccccccce: Beep. Boop. I'm a robot.\n",
      "okbuddycapitalist: Beep. Boop. I'm a robot.\n",
      "SHIBArmy: Beep. Boop. I'm a robot.\n",
      "acnh: Beep. Boop. I'm a robot.\n",
      "aaaaaaacccccccce: Beep. Boop. I'm a robot.\n",
      "weeklyplanetpodcast: Beep. Boop. I'm a robot.\n",
      "mississippi: Beep. Boop. I'm a robot.\n",
      "BrighterThanCoruscant: Beep. Boop. I'm a robot.\n"
     ]
    }
   ],
   "source": [
    "for comment in reddit.redditor(author).comments.new(limit=10):\n",
    "    print(str(comment.subreddit) + \": \" + comment.body.split(\"\\n\", 1)[0][:79])"
   ]
  },
  {
   "cell_type": "markdown",
   "metadata": {},
   "source": [
    "## 4. Programmatically message users to rate the accuracy of a headline"
   ]
  },
  {
   "cell_type": "code",
   "execution_count": 23,
   "metadata": {},
   "outputs": [
    {
     "name": "stdout",
     "output_type": "stream",
     "text": [
      "dkoban: 1\n",
      "nad_nabok: 1\n",
      "amberlarsen1: 3\n"
     ]
    }
   ],
   "source": [
    "user = reddit.redditor(\"dkoban\")\n",
    "print(user.name + \": \" + str(user.total_karma))\n",
    "user = reddit.redditor(\"nad_nabok\")\n",
    "print(user.name + \": \" + str(user.total_karma))\n",
    "user = reddit.redditor(\"amberlarsen1\")\n",
    "print(user.name + \": \" + str(user.total_karma))"
   ]
  },
  {
   "cell_type": "code",
   "execution_count": 24,
   "metadata": {},
   "outputs": [],
   "source": [
    "reddit.redditor(\"amberlarsen1\").message(\"Can you rate this?\", \n",
    "                                        \"Hi, I'm a bot.  Can you rate the accuracy of this headline? Thanks : )\")"
   ]
  },
  {
   "cell_type": "code",
   "execution_count": 25,
   "metadata": {},
   "outputs": [],
   "source": [
    "reddit.redditor(\"nad_nabok\").message(\"Can you rate this?\", \n",
    "                                        \"Hi, I'm a bot.  Can you rate the accuracy of this headline? Thanks : )\")"
   ]
  },
  {
   "cell_type": "markdown",
   "metadata": {},
   "source": [
    "Is not working on other accounts.  It might be due to age of the account. Messaging also requires logging in.  "
   ]
  },
  {
   "cell_type": "code",
   "execution_count": 26,
   "metadata": {},
   "outputs": [
    {
     "data": {
      "text/plain": [
       "'nad_nabok'"
      ]
     },
     "execution_count": 26,
     "metadata": {},
     "output_type": "execute_result"
    }
   ],
   "source": [
    "config.read(\"/Users/dankoban/Documents/Dissertation/config.ini\")\n",
    "client_id_bot = config['reddit']['client_id_bot']\n",
    "client_secret_bot = config['reddit']['client_secret_bot']\n",
    "user_agent_bot = config['reddit']['user_agent_bot']\n",
    "password_bot = config['reddit']['password_bot']\n",
    "username_bot = config['reddit']['username_bot']\n",
    "\n",
    "bot = praw.Reddit(\n",
    "    client_id=client_id_bot,\n",
    "    client_secret=client_secret_bot,\n",
    "    user_agent=user_agent_bot,\n",
    "    username=username_bot,\n",
    "    password=password_bot\n",
    ")\n",
    "username_bot"
   ]
  },
  {
   "cell_type": "code",
   "execution_count": 27,
   "metadata": {
    "scrolled": true
   },
   "outputs": [
    {
     "ename": "RedditAPIException",
     "evalue": "RESTRICTED_TO_PM: \"User doesn't accept direct messages. Try sending a chat request instead.\" on field 'to'",
     "output_type": "error",
     "traceback": [
      "\u001b[0;31m---------------------------------------------------------------------------\u001b[0m",
      "\u001b[0;31mRedditAPIException\u001b[0m                        Traceback (most recent call last)",
      "\u001b[0;32m<ipython-input-27-b71df90da539>\u001b[0m in \u001b[0;36m<module>\u001b[0;34m\u001b[0m\n\u001b[0;32m----> 1\u001b[0;31m bot.redditor(\"amberlarsen1\").message(\"Can you rate this?\", \n\u001b[0m\u001b[1;32m      2\u001b[0m                                         \"Hi, I'm a bot.  Can you rate the accuracy of this headline? Thanks : )\")\n",
      "\u001b[0;32m~/opt/anaconda3/lib/python3.8/site-packages/praw/models/reddit/mixins/messageable.py\u001b[0m in \u001b[0;36mmessage\u001b[0;34m(self, subject, message, from_subreddit)\u001b[0m\n\u001b[1;32m     59\u001b[0m         \u001b[0;32mif\u001b[0m \u001b[0mfrom_subreddit\u001b[0m\u001b[0;34m:\u001b[0m\u001b[0;34m\u001b[0m\u001b[0;34m\u001b[0m\u001b[0m\n\u001b[1;32m     60\u001b[0m             \u001b[0mdata\u001b[0m\u001b[0;34m[\u001b[0m\u001b[0;34m\"from_sr\"\u001b[0m\u001b[0;34m]\u001b[0m \u001b[0;34m=\u001b[0m \u001b[0mstr\u001b[0m\u001b[0;34m(\u001b[0m\u001b[0mfrom_subreddit\u001b[0m\u001b[0;34m)\u001b[0m\u001b[0;34m\u001b[0m\u001b[0;34m\u001b[0m\u001b[0m\n\u001b[0;32m---> 61\u001b[0;31m         \u001b[0mself\u001b[0m\u001b[0;34m.\u001b[0m\u001b[0m_reddit\u001b[0m\u001b[0;34m.\u001b[0m\u001b[0mpost\u001b[0m\u001b[0;34m(\u001b[0m\u001b[0mAPI_PATH\u001b[0m\u001b[0;34m[\u001b[0m\u001b[0;34m\"compose\"\u001b[0m\u001b[0;34m]\u001b[0m\u001b[0;34m,\u001b[0m \u001b[0mdata\u001b[0m\u001b[0;34m=\u001b[0m\u001b[0mdata\u001b[0m\u001b[0;34m)\u001b[0m\u001b[0;34m\u001b[0m\u001b[0;34m\u001b[0m\u001b[0m\n\u001b[0m",
      "\u001b[0;32m~/opt/anaconda3/lib/python3.8/site-packages/praw/reddit.py\u001b[0m in \u001b[0;36mpost\u001b[0;34m(self, path, data, files, params, json)\u001b[0m\n\u001b[1;32m    758\u001b[0m             \u001b[0mdata\u001b[0m \u001b[0;34m=\u001b[0m \u001b[0mdata\u001b[0m \u001b[0;32mor\u001b[0m \u001b[0;34m{\u001b[0m\u001b[0;34m}\u001b[0m\u001b[0;34m\u001b[0m\u001b[0;34m\u001b[0m\u001b[0m\n\u001b[1;32m    759\u001b[0m         \u001b[0;32mtry\u001b[0m\u001b[0;34m:\u001b[0m\u001b[0;34m\u001b[0m\u001b[0;34m\u001b[0m\u001b[0m\n\u001b[0;32m--> 760\u001b[0;31m             return self._objectify_request(\n\u001b[0m\u001b[1;32m    761\u001b[0m                 \u001b[0mdata\u001b[0m\u001b[0;34m=\u001b[0m\u001b[0mdata\u001b[0m\u001b[0;34m,\u001b[0m\u001b[0;34m\u001b[0m\u001b[0;34m\u001b[0m\u001b[0m\n\u001b[1;32m    762\u001b[0m                 \u001b[0mfiles\u001b[0m\u001b[0;34m=\u001b[0m\u001b[0mfiles\u001b[0m\u001b[0;34m,\u001b[0m\u001b[0;34m\u001b[0m\u001b[0;34m\u001b[0m\u001b[0m\n",
      "\u001b[0;32m~/opt/anaconda3/lib/python3.8/site-packages/praw/reddit.py\u001b[0m in \u001b[0;36m_objectify_request\u001b[0;34m(self, data, files, json, method, params, path)\u001b[0m\n\u001b[1;32m    671\u001b[0m \u001b[0;34m\u001b[0m\u001b[0m\n\u001b[1;32m    672\u001b[0m         \"\"\"\n\u001b[0;32m--> 673\u001b[0;31m         return self._objector.objectify(\n\u001b[0m\u001b[1;32m    674\u001b[0m             self.request(\n\u001b[1;32m    675\u001b[0m                 \u001b[0mdata\u001b[0m\u001b[0;34m=\u001b[0m\u001b[0mdata\u001b[0m\u001b[0;34m,\u001b[0m\u001b[0;34m\u001b[0m\u001b[0;34m\u001b[0m\u001b[0m\n",
      "\u001b[0;32m~/opt/anaconda3/lib/python3.8/site-packages/praw/objector.py\u001b[0m in \u001b[0;36mobjectify\u001b[0;34m(self, data)\u001b[0m\n\u001b[1;32m    163\u001b[0m             \u001b[0merrors\u001b[0m \u001b[0;34m=\u001b[0m \u001b[0mdata\u001b[0m\u001b[0;34m[\u001b[0m\u001b[0;34m\"json\"\u001b[0m\u001b[0;34m]\u001b[0m\u001b[0;34m[\u001b[0m\u001b[0;34m\"errors\"\u001b[0m\u001b[0;34m]\u001b[0m\u001b[0;34m\u001b[0m\u001b[0;34m\u001b[0m\u001b[0m\n\u001b[1;32m    164\u001b[0m             \u001b[0;32mif\u001b[0m \u001b[0mlen\u001b[0m\u001b[0;34m(\u001b[0m\u001b[0merrors\u001b[0m\u001b[0;34m)\u001b[0m \u001b[0;34m>\u001b[0m \u001b[0;36m0\u001b[0m\u001b[0;34m:\u001b[0m\u001b[0;34m\u001b[0m\u001b[0;34m\u001b[0m\u001b[0m\n\u001b[0;32m--> 165\u001b[0;31m                 \u001b[0;32mraise\u001b[0m \u001b[0mRedditAPIException\u001b[0m\u001b[0;34m(\u001b[0m\u001b[0merrors\u001b[0m\u001b[0;34m)\u001b[0m\u001b[0;34m\u001b[0m\u001b[0;34m\u001b[0m\u001b[0m\n\u001b[0m\u001b[1;32m    166\u001b[0m         if \"kind\" in data and (\n\u001b[1;32m    167\u001b[0m             \u001b[0;34m\"shortName\"\u001b[0m \u001b[0;32min\u001b[0m \u001b[0mdata\u001b[0m \u001b[0;32mor\u001b[0m \u001b[0mdata\u001b[0m\u001b[0;34m[\u001b[0m\u001b[0;34m\"kind\"\u001b[0m\u001b[0;34m]\u001b[0m \u001b[0;32min\u001b[0m \u001b[0;34m(\u001b[0m\u001b[0;34m\"menu\"\u001b[0m\u001b[0;34m,\u001b[0m \u001b[0;34m\"moderators\"\u001b[0m\u001b[0;34m)\u001b[0m\u001b[0;34m\u001b[0m\u001b[0;34m\u001b[0m\u001b[0m\n",
      "\u001b[0;31mRedditAPIException\u001b[0m: RESTRICTED_TO_PM: \"User doesn't accept direct messages. Try sending a chat request instead.\" on field 'to'"
     ]
    }
   ],
   "source": [
    "bot.redditor(\"amberlarsen1\").message(\"Can you rate this?\", \n",
    "                                        \"Hi, I'm a bot.  Can you rate the accuracy of this headline? Thanks : )\")"
   ]
  }
 ],
 "metadata": {
  "kernelspec": {
   "display_name": "Python 3",
   "language": "python",
   "name": "python3"
  },
  "language_info": {
   "codemirror_mode": {
    "name": "ipython",
    "version": 3
   },
   "file_extension": ".py",
   "mimetype": "text/x-python",
   "name": "python",
   "nbconvert_exporter": "python",
   "pygments_lexer": "ipython3",
   "version": "3.8.5"
  }
 },
 "nbformat": 4,
 "nbformat_minor": 4
}
